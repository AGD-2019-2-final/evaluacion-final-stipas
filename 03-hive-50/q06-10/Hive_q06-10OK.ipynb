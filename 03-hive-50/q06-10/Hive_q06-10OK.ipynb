{
 "cells": [
  {
   "cell_type": "code",
   "execution_count": 1,
   "metadata": {},
   "outputs": [],
   "source": [
    "%load_ext bigdata"
   ]
  },
  {
   "cell_type": "code",
   "execution_count": 2,
   "metadata": {},
   "outputs": [],
   "source": [
    "%hive_start"
   ]
  },
  {
   "cell_type": "code",
   "execution_count": 3,
   "metadata": {},
   "outputs": [],
   "source": [
    "%timeout 300"
   ]
  },
  {
   "cell_type": "code",
   "execution_count": 4,
   "metadata": {},
   "outputs": [],
   "source": [
    "!hadoop fs -rm -f -r tmp;"
   ]
  },
  {
   "cell_type": "code",
   "execution_count": 5,
   "metadata": {},
   "outputs": [
    {
     "name": "stdout",
     "output_type": "stream",
     "text": [
      "copyFromLocal: `data.tsv': No such file or directory\n",
      "ls: `/tmp/output/*': No such file or directory\n"
     ]
    }
   ],
   "source": [
    "## Borra la carpeta si existe\n",
    "!hdfs dfs -rm -r -f /tmp/output\n",
    "## Crea la carpeta drivers en el HDFS\n",
    "!hdfs dfs -mkdir /tmp/output\n",
    "## Copia los archivos al HDFS\n",
    "!hdfs dfs -copyFromLocal data.tsv  /tmp/output/data.tsv\n",
    "## Lista los archivos al HDFS para verificar\n",
    "## que los archivos fueron copiados correctamente.\n",
    "!hdfs dfs -ls /tmp/output/*"
   ]
  },
  {
   "cell_type": "code",
   "execution_count": 6,
   "metadata": {},
   "outputs": [
    {
     "name": "stdout",
     "output_type": "stream",
     "text": [
      "DROP TABLE IF EXISTS tbl0;\n",
      "OK\n",
      "Time taken: 20.658 seconds\n",
      "CREATE TABLE tbl0 (\n",
      "    c1 INT,\n",
      "    c2 STRING,\n",
      "    c3 INT,\n",
      "    c4 DATE,\n",
      "    c5 ARRAY<CHAR(1)>, \n",
      "    c6 MAP<STRING, INT>\n",
      ")\n",
      "ROW FORMAT DELIMITED \n",
      "FIELDS TERMINATED BY ','\n",
      "COLLECTION ITEMS TERMINATED BY ':'\n",
      "MAP KEYS TERMINATED BY '#'\n",
      "LINES TERMINATED BY '\\n';\n",
      "OK\n",
      "Time taken: 1.824 seconds\n",
      "LOAD DATA LOCAL INPATH 'tbl0.csv' INTO TABLE tbl0;\n",
      "Loading data to table default.tbl0\n",
      "OK\n",
      "Time taken: 3.235 seconds\n"
     ]
    }
   ],
   "source": [
    "%%hive\n",
    "DROP TABLE IF EXISTS tbl0;\n",
    "CREATE TABLE tbl0 (\n",
    "    c1 INT,\n",
    "    c2 STRING,\n",
    "    c3 INT,\n",
    "    c4 DATE,\n",
    "    c5 ARRAY<CHAR(1)>, \n",
    "    c6 MAP<STRING, INT>\n",
    ")\n",
    "ROW FORMAT DELIMITED \n",
    "FIELDS TERMINATED BY ','\n",
    "COLLECTION ITEMS TERMINATED BY ':'\n",
    "MAP KEYS TERMINATED BY '#'\n",
    "LINES TERMINATED BY '\\n';\n",
    "LOAD DATA LOCAL INPATH 'tbl0.csv' INTO TABLE tbl0;\n"
   ]
  },
  {
   "cell_type": "code",
   "execution_count": 7,
   "metadata": {},
   "outputs": [
    {
     "name": "stdout",
     "output_type": "stream",
     "text": [
      "--\n",
      "-- para guardar la consulta se debe almacenar en un tabla\n",
      "DROP TABLE IF EXISTS salida;\n",
      "OK\n",
      "Time taken: 0.015 seconds\n",
      "CREATE TABLE salida\n",
      "AS\n",
      "SELECT\n",
      "     UPPER(concat_ws(':', c5))\n",
      "FROM\n",
      "     tbl0;\n",
      "WARNING: Hive-on-MR is deprecated in Hive 2 and may not be available in the future versions. Consider using a different execution engine (i.e. spark, tez) or using Hive 1.X releases.\n",
      "Query ID = root_20200120033138_8ae6c9c6-92aa-48be-8042-588d7fe0346c\n",
      "Total jobs = 3\n",
      "Launching Job 1 out of 3\n",
      "Number of reduce tasks is set to 0 since there's no reduce operator\n",
      "Starting Job = job_1579490823624_0001, Tracking URL = http://57847784e884:8088/proxy/application_1579490823624_0001/\n",
      "Kill Command = /usr/local/hadoop/bin/hadoop job  -kill job_1579490823624_0001\n",
      "Hadoop job information for Stage-1: number of mappers: 1; number of reducers: 0\n",
      "2020-01-20 03:32:03,753 Stage-1 map = 0%,  reduce = 0%\n",
      "2020-01-20 03:32:13,340 Stage-1 map = 100%,  reduce = 0%, Cumulative CPU 4.8 sec\n",
      "MapReduce Total cumulative CPU time: 4 seconds 800 msec\n",
      "Ended Job = job_1579490823624_0001\n",
      "Stage-4 is selected by condition resolver.\n",
      "Stage-3 is filtered out by condition resolver.\n",
      "Stage-5 is filtered out by condition resolver.\n",
      "Moving data to directory hdfs://0.0.0.0:9000/user/hive/warehouse/.hive-staging_hive_2020-01-20_03-31-38_223_838071030363794852-1/-ext-10002\n",
      "Moving data to directory hdfs://0.0.0.0:9000/user/hive/warehouse/salida\n",
      "MapReduce Jobs Launched: \n",
      "Stage-Stage-1: Map: 1   Cumulative CPU: 4.8 sec   HDFS Read: 4750 HDFS Write: 138 SUCCESS\n",
      "Total MapReduce CPU Time Spent: 4 seconds 800 msec\n",
      "OK\n",
      "Time taken: 37.704 seconds\n"
     ]
    }
   ],
   "source": [
    "%%hive\n",
    "--\n",
    "-- para guardar la consulta se debe almacenar en un tabla\n",
    "DROP TABLE IF EXISTS salida;\n",
    "CREATE TABLE salida\n",
    "AS\n",
    "SELECT\n",
    "     UPPER(concat_ws(':', c5))\n",
    "FROM\n",
    "     tbl0;"
   ]
  },
  {
   "cell_type": "code",
   "execution_count": 8,
   "metadata": {},
   "outputs": [
    {
     "name": "stdout",
     "output_type": "stream",
     "text": [
      "DROP TABLE IF EXISTS tbl0;\n",
      "OK\n",
      "Time taken: 0.771 seconds\n"
     ]
    }
   ],
   "source": [
    "%%hive\n",
    "DROP TABLE IF EXISTS tbl0;"
   ]
  },
  {
   "cell_type": "code",
   "execution_count": 9,
   "metadata": {},
   "outputs": [
    {
     "name": "stdout",
     "output_type": "stream",
     "text": [
      "-- \n",
      "INSERT OVERWRITE DIRECTORY 'tmp/000000_0'\n",
      "ROW FORMAT DELIMITED FIELDS TERMINATED BY ','\n",
      "SELECT\n",
      "    *\n",
      "FROM\n",
      "    salida;\n",
      "WARNING: Hive-on-MR is deprecated in Hive 2 and may not be available in the future versions. Consider using a different execution engine (i.e. spark, tez) or using Hive 1.X releases.\n",
      "Query ID = root_20200120033225_91885982-4f53-44f4-957b-b63b613bc8a7\n",
      "Total jobs = 3\n",
      "Launching Job 1 out of 3\n",
      "Number of reduce tasks is set to 0 since there's no reduce operator\n",
      "Starting Job = job_1579490823624_0002, Tracking URL = http://57847784e884:8088/proxy/application_1579490823624_0002/\n",
      "Kill Command = /usr/local/hadoop/bin/hadoop job  -kill job_1579490823624_0002\n",
      "Hadoop job information for Stage-1: number of mappers: 1; number of reducers: 0\n",
      "2020-01-20 03:32:39,870 Stage-1 map = 0%,  reduce = 0%\n",
      "2020-01-20 03:32:47,997 Stage-1 map = 100%,  reduce = 0%, Cumulative CPU 2.88 sec\n",
      "MapReduce Total cumulative CPU time: 2 seconds 880 msec\n",
      "Ended Job = job_1579490823624_0002\n",
      "Stage-3 is selected by condition resolver.\n",
      "Stage-2 is filtered out by condition resolver.\n",
      "Stage-4 is filtered out by condition resolver.\n",
      "Moving data to directory hdfs://0.0.0.0:9000/user/root/tmp/000000_0/.hive-staging_hive_2020-01-20_03-32-25_474_2344089013547315106-1/-ext-10000\n",
      "Moving data to directory tmp/000000_0\n",
      "MapReduce Jobs Launched: \n",
      "Stage-Stage-1: Map: 1   Cumulative CPU: 2.88 sec   HDFS Read: 3272 HDFS Write: 68 SUCCESS\n",
      "Total MapReduce CPU Time Spent: 2 seconds 880 msec\n",
      "OK\n",
      "Time taken: 24.962 seconds\n"
     ]
    }
   ],
   "source": [
    "%%hive\n",
    "-- \n",
    "INSERT OVERWRITE DIRECTORY 'tmp/000000_0'\n",
    "ROW FORMAT DELIMITED FIELDS TERMINATED BY ','\n",
    "SELECT\n",
    "    *\n",
    "FROM\n",
    "    salida;"
   ]
  },
  {
   "cell_type": "code",
   "execution_count": 10,
   "metadata": {},
   "outputs": [],
   "source": [
    "!hadoop fs -copyToLocal ./tmp/000000_0 output"
   ]
  },
  {
   "cell_type": "code",
   "execution_count": 11,
   "metadata": {},
   "outputs": [],
   "source": [
    "%hive_quit"
   ]
  },
  {
   "cell_type": "code",
   "execution_count": null,
   "metadata": {},
   "outputs": [],
   "source": []
  }
 ],
 "metadata": {
  "kernelspec": {
   "display_name": "Python 3",
   "language": "python",
   "name": "python3"
  },
  "language_info": {
   "codemirror_mode": {
    "name": "ipython",
    "version": 3
   },
   "file_extension": ".py",
   "mimetype": "text/x-python",
   "name": "python",
   "nbconvert_exporter": "python",
   "pygments_lexer": "ipython3",
   "version": "3.6.8"
  }
 },
 "nbformat": 4,
 "nbformat_minor": 4
}
