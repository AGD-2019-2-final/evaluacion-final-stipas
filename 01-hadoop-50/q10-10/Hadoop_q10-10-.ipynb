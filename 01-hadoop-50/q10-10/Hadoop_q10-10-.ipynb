{
 "cells": [
  {
   "cell_type": "code",
   "execution_count": 22,
   "metadata": {
    "colab": {
     "base_uri": "https://localhost:8080/",
     "height": 34
    },
    "colab_type": "code",
    "executionInfo": {
     "elapsed": 914,
     "status": "ok",
     "timestamp": 1576801131044,
     "user": {
      "displayName": "Saulo Sebastian Tipas Puerres",
      "photoUrl": "https://lh3.googleusercontent.com/a-/AAuE7mCQu5YfliCpk9h8k9mx3iFSoHT2_8SDvvxM1CO-=s64",
      "userId": "05224778346041988074"
     },
     "user_tz": 300
    },
    "id": "zV1zVIb3_zqp",
    "outputId": "3a62d20a-d7a8-40e4-811f-b4a02a147875"
   },
   "outputs": [
    {
     "name": "stdout",
     "output_type": "stream",
     "text": [
      "Overwriting mapper.py\n"
     ]
    }
   ],
   "source": [
    "%%writefile mapper.py\n",
    "#! /usr/bin/env python\n",
    "\n",
    "import sys\n",
    "if __name__ == \"__main__\":\n",
    "\n",
    "    # input comes from STDIN (standard input)\n",
    "    for line in sys.stdin:\n",
    "        line = line.strip()\n",
    "        line = line.split('\\t')\n",
    "\n",
    "        if len(line) >=2:\n",
    "            letra = line[0]\n",
    "            fecha = line[1]\n",
    "            \n",
    "\n",
    "            sys.stdout.write(\"{},{}\\n\".format(letra, fecha))\n",
    "        ##    print ('%s\\t%s' % (purpose, amount))"
   ]
  },
  {
   "cell_type": "code",
   "execution_count": 23,
   "metadata": {
    "colab": {},
    "colab_type": "code",
    "id": "H-kOG-oeACaG"
   },
   "outputs": [],
   "source": [
    "!chmod +x mapper.py"
   ]
  },
  {
   "cell_type": "code",
   "execution_count": 24,
   "metadata": {
    "colab": {
     "base_uri": "https://localhost:8080/",
     "height": 187
    },
    "colab_type": "code",
    "executionInfo": {
     "elapsed": 2086,
     "status": "ok",
     "timestamp": 1576801141332,
     "user": {
      "displayName": "Saulo Sebastian Tipas Puerres",
      "photoUrl": "https://lh3.googleusercontent.com/a-/AAuE7mCQu5YfliCpk9h8k9mx3iFSoHT2_8SDvvxM1CO-=s64",
      "userId": "05224778346041988074"
     },
     "user_tz": 300
    },
    "id": "0VBYhftEAFsR",
    "outputId": "d19ae530-4381-4ec3-f6dd-7125fad541d5"
   },
   "outputs": [
    {
     "name": "stdout",
     "output_type": "stream",
     "text": [
      "0,C,F,A,B,D,I,H\n",
      "1,A,H,C,I,F,D,B\n",
      "2,B,H,I,F,G\n",
      "3,C,B,D\n",
      "4,D,C,I,G,H\n",
      "5,B,D,C,H,A\n",
      "6,H,D,C,B,G,F,D\n",
      "7,F,A,G,C,B,D,H,I\n",
      "8,F,A,I,B,D\n",
      "9,F,A,B,D,C,D,G,I\n"
     ]
    }
   ],
   "source": [
    "!cat ./data.csv | ./mapper.py | head"
   ]
  },
  {
   "cell_type": "code",
   "execution_count": 19,
   "metadata": {
    "colab": {
     "base_uri": "https://localhost:8080/",
     "height": 34
    },
    "colab_type": "code",
    "executionInfo": {
     "elapsed": 506,
     "status": "ok",
     "timestamp": 1576812083599,
     "user": {
      "displayName": "Saulo Sebastian Tipas Puerres",
      "photoUrl": "https://lh3.googleusercontent.com/a-/AAuE7mCQu5YfliCpk9h8k9mx3iFSoHT2_8SDvvxM1CO-=s64",
      "userId": "05224778346041988074"
     },
     "user_tz": 300
    },
    "id": "adpG1pCZANUx",
    "outputId": "5b422d63-7242-4258-bff5-8e42bb076a7a"
   },
   "outputs": [
    {
     "name": "stdout",
     "output_type": "stream",
     "text": [
      "Overwriting reducer.py\n"
     ]
    }
   ],
   "source": [
    "%%writefile reducer.py\n",
    "#!/usr/bin/env python\n",
    "import sys\n",
    "\n",
    "if __name__ == '__main__':\n",
    "    ## cada linea de texto recibida es una\n",
    "    ## entrada clave \\tabulador valor\n",
    "    z=[]\n",
    "    a=[]\n",
    "    b=[]\n",
    "    c=[]\n",
    "    d=[]\n",
    "    f=[]\n",
    "    g=[]\n",
    "    h=[]\n",
    "    i=[]\n",
    "    x=['A','B','C','D','F','G','H','I']    \n",
    "    for line in sys.stdin:\n",
    "        line = line.strip()\n",
    "        letras = line.split(',')\n",
    "        if line.count('A'):        \n",
    "          a.append(int(letras[0]))\n",
    "        if line.count('B'):\n",
    "          b.append(int(letras[0]))\n",
    "        if line.count('C'):\n",
    "          c.append(int(letras[0]))\n",
    "        if line.count('D'):\n",
    "          d.append(int(letras[0]))\n",
    "        if line.count('F'):\n",
    "          f.append(int(letras[0]))\n",
    "        if line.count('G'):\n",
    "          g.append(int(letras[0]))\n",
    "        if line.count('H'):\n",
    "          h.append(int(letras[0]))\n",
    "        if line.count('I'):\n",
    "          i.append(int(letras[0]))\n",
    "    a = [str(w) for w in sorted(a)]\n",
    "    b = [str(w) for w in sorted(b)]\n",
    "    c = [str(w) for w in sorted(c)]\n",
    "    d = [str(w) for w in sorted(d)]\n",
    "    f = [str(w) for w in sorted(f)]\n",
    "    g = [str(w) for w in sorted(g)]\n",
    "    h = [str(w) for w in sorted(h)]\n",
    "    i = [str(w) for w in sorted(i)]\n",
    "    z.extend([a,b,c,d,f,g,h,i])\n",
    "    \n",
    "    for i in range(8):\n",
    "      sys.stdout.write(\"{}\\t{}\\n\".format(x[i],\",\".join(z[i])))\n"
   ]
  },
  {
   "cell_type": "code",
   "execution_count": 20,
   "metadata": {
    "colab": {},
    "colab_type": "code",
    "id": "K2_IM9fHA9R0"
   },
   "outputs": [],
   "source": [
    "!chmod +x reducer.py"
   ]
  },
  {
   "cell_type": "code",
   "execution_count": 21,
   "metadata": {
    "colab": {
     "base_uri": "https://localhost:8080/",
     "height": 153
    },
    "colab_type": "code",
    "executionInfo": {
     "elapsed": 1498,
     "status": "ok",
     "timestamp": 1576812087886,
     "user": {
      "displayName": "Saulo Sebastian Tipas Puerres",
      "photoUrl": "https://lh3.googleusercontent.com/a-/AAuE7mCQu5YfliCpk9h8k9mx3iFSoHT2_8SDvvxM1CO-=s64",
      "userId": "05224778346041988074"
     },
     "user_tz": 300
    },
    "id": "BSsSgTwzA-JD",
    "outputId": "b216178e-c0fc-422d-a6af-285791af62ee"
   },
   "outputs": [
    {
     "name": "stdout",
     "output_type": "stream",
     "text": [
      "A\t0,1,5,7,8,9,10,12,13,14,15,16,17,18,21,23,24,25,26,27,28,29\n",
      "B\t0,1,2,3,5,6,7,8,9,10,11,12,15,16,17,18,19,20,21,22,23,25,26,27,29\n",
      "C\t0,1,3,4,5,6,7,9,10,11,12,14,15,17,20,21,22,23,25,28,29\n",
      "D\t0,1,3,4,5,6,7,8,9,10,11,12,13,14,15,16,17,18,19,20,21,23,24,26,27,28,29\n",
      "F\t0,1,2,6,7,8,9,11,12,13,15,17,18,19,20,21,22,23,24,25,26,27,28,29\n",
      "G\t2,4,6,7,9,11,12,14,15,17,20,21,22,24,25,26,27,29\n",
      "H\t0,1,2,4,5,6,7,10,11,12,15,17,18,20,22,23,24,25,26,27,28,29\n",
      "I\t0,1,2,4,7,8,9,11,15,16,18,19,20,22,25,26,27\n"
     ]
    }
   ],
   "source": [
    "!cat ./data.csv | ./mapper.py | sort | ./reducer.py "
   ]
  },
  {
   "cell_type": "code",
   "execution_count": null,
   "metadata": {},
   "outputs": [],
   "source": []
  }
 ],
 "metadata": {
  "colab": {
   "name": "Copia de Hadoop_q10-10-.ipynb",
   "provenance": [
    {
     "file_id": "18mNFmVBUC3gr3O2dXZm351hhEEtqYBel",
     "timestamp": 1578962244582
    }
   ]
  },
  "kernelspec": {
   "display_name": "Python 3",
   "language": "python",
   "name": "python3"
  },
  "language_info": {
   "codemirror_mode": {
    "name": "ipython",
    "version": 3
   },
   "file_extension": ".py",
   "mimetype": "text/x-python",
   "name": "python",
   "nbconvert_exporter": "python",
   "pygments_lexer": "ipython3",
   "version": "3.6.8"
  }
 },
 "nbformat": 4,
 "nbformat_minor": 4
}
