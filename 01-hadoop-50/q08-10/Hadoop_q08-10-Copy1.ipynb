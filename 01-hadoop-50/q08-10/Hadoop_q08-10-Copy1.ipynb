{
 "cells": [
  {
   "cell_type": "code",
   "execution_count": 1,
   "metadata": {},
   "outputs": [
    {
     "name": "stdout",
     "output_type": "stream",
     "text": [
      "Overwriting mapper.py\n"
     ]
    }
   ],
   "source": [
    "%%writefile mapper.py\n",
    "#! /usr/bin/env python\n",
    "\n",
    "import sys\n",
    "if __name__ == \"__main__\":\n",
    "\n",
    "    # input comes from STDIN (standard input)\n",
    "    for line in sys.stdin:\n",
    "        line = line.strip()\n",
    "        line = line.split('   ')\n",
    "\n",
    "        if len(line) >=2:\n",
    "            letra = line[0]\n",
    "            valor = line[2]            \n",
    "\n",
    "            sys.stdout.write(\"{},{}\\n\".format(letra, valor))\n",
    "        ##    print ('%s\\t%s' % (purpose, amount))"
   ]
  },
  {
   "cell_type": "code",
   "execution_count": 2,
   "metadata": {},
   "outputs": [],
   "source": [
    "!chmod +x mapper.py"
   ]
  },
  {
   "cell_type": "code",
   "execution_count": 3,
   "metadata": {},
   "outputs": [
    {
     "name": "stdout",
     "output_type": "stream",
     "text": [
      "A,10\n",
      "A,11\n",
      "A,12\n",
      "A,12\n",
      "A,13\n",
      "A,13\n",
      "A,14\n",
      "A,14\n",
      "A,14\n",
      "A,16\n"
     ]
    }
   ],
   "source": [
    "!cat ./data.csv | ./mapper.py | sort | head"
   ]
  },
  {
   "cell_type": "code",
   "execution_count": 4,
   "metadata": {},
   "outputs": [
    {
     "name": "stdout",
     "output_type": "stream",
     "text": [
      "Overwriting reducer.py\n"
     ]
    }
   ],
   "source": [
    "%%writefile reducer.py\n",
    "#!/usr/bin/env python\n",
    "import sys\n",
    "## Esta funcion reduce los elementos que\n",
    "## tienen la misma clave\n",
    "if __name__ == '__main__':\n",
    "\n",
    "    Letter = {}\n",
    "    for line in sys.stdin:\n",
    "        line = line.strip()\n",
    "        k = line.split(',')[0]\n",
    "        val = line.split(',')[1]\n",
    "        val=float(val)\n",
    "        if k in Letter.keys():\n",
    "            Letter[k].append(val)\n",
    "        else:\n",
    "            Letter[k]=[]\n",
    "            Letter[k].append(val)\n",
    "    for k in Letter.keys():\n",
    "        suml =sum(Letter[k])\n",
    "        avgl =suml/float(len(Letter[k]))\n",
    "        sys.stdout.write(\"{}\\t{}\\t{}\\n\".format(k, suml, avgl))"
   ]
  },
  {
   "cell_type": "code",
   "execution_count": 5,
   "metadata": {},
   "outputs": [],
   "source": [
    "!chmod +x reducer.py"
   ]
  },
  {
   "cell_type": "code",
   "execution_count": 6,
   "metadata": {},
   "outputs": [
    {
     "name": "stdout",
     "output_type": "stream",
     "text": [
      "A\t165.0\t13.75\n",
      "B\t136.0\t13.6\n",
      "C\t48.0\t12.0\n",
      "D\t15.0\t15.0\n",
      "E\t192.0\t14.7692307692\n"
     ]
    }
   ],
   "source": [
    "!cat ./data.csv | ./mapper.py | ./reducer.py | sort"
   ]
  },
  {
   "cell_type": "code",
   "execution_count": null,
   "metadata": {},
   "outputs": [],
   "source": []
  }
 ],
 "metadata": {
  "kernelspec": {
   "display_name": "Python 3",
   "language": "python",
   "name": "python3"
  },
  "language_info": {
   "codemirror_mode": {
    "name": "ipython",
    "version": 3
   },
   "file_extension": ".py",
   "mimetype": "text/x-python",
   "name": "python",
   "nbconvert_exporter": "python",
   "pygments_lexer": "ipython3",
   "version": "3.6.8"
  }
 },
 "nbformat": 4,
 "nbformat_minor": 4
}
