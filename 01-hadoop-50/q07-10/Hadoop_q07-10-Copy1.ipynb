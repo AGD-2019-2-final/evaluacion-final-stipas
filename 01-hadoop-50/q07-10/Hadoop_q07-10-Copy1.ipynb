{
 "cells": [
  {
   "cell_type": "code",
   "execution_count": 10,
   "metadata": {},
   "outputs": [
    {
     "name": "stdout",
     "output_type": "stream",
     "text": [
      "Overwriting mapper.py\n"
     ]
    }
   ],
   "source": [
    "%%writefile mapper.py\n",
    "#! /usr/bin/env python\n",
    "\n",
    "import sys\n",
    "#\n",
    "#  >>> Escriba el codigo del mapper a partir de este punto <<<\n",
    "#\n",
    "if __name__ == \"__main__\":\n",
    "\n",
    "    for line in sys.stdin:\n",
    "        line = line.strip()\n",
    "        Letter = line.split('   ')[0]\n",
    "        date = line.split('   ')[1]\n",
    "        val = line.split('   ')[2]\n",
    "        sys.stdout.write(\"{},{},{}\\n\".format(Letter,date,val))"
   ]
  },
  {
   "cell_type": "code",
   "execution_count": 11,
   "metadata": {},
   "outputs": [],
   "source": [
    "!chmod +x mapper.py"
   ]
  },
  {
   "cell_type": "code",
   "execution_count": 12,
   "metadata": {},
   "outputs": [
    {
     "name": "stdout",
     "output_type": "stream",
     "text": [
      "A,1988-04-27,121\n",
      "A,1990-07-22,0\n",
      "A,1990-08-31,12\n",
      "A,1990-09-05,11\n",
      "A,1990-09-26,8\n",
      "A,1990-10-06,10\n",
      "A,1992-08-22,16\n",
      "A,1992-09-19,9\n",
      "A,1993-01-11,15\n",
      "A,1993-05-08,17\n"
     ]
    }
   ],
   "source": [
    "!cat ./data.csv | ./mapper.py | sort | head"
   ]
  },
  {
   "cell_type": "code",
   "execution_count": 19,
   "metadata": {},
   "outputs": [
    {
     "name": "stdout",
     "output_type": "stream",
     "text": [
      "Overwriting reducer.py\n"
     ]
    }
   ],
   "source": [
    "%%writefile reducer.py\n",
    "#!/usr/bin/env python\n",
    "import sys\n",
    "\n",
    "if __name__ == '__main__':\n",
    "    ## cada linea de texto recibida es una\n",
    "    ## entrada clave \\tabulador valor\n",
    "    b=[]\n",
    "    for line in sys.stdin:\n",
    "        line = line.strip()\n",
    "        letter, date, val = line.split(',')\n",
    "        val=int(val)\n",
    "        b.append((letter, date, val))\n",
    "        \n",
    "\n",
    "       ## sys.stdout.write(\"{}\\n\".format(sorted(line)))\n",
    "    b.sort(key=lambda b: b[2])\n",
    "    b.sort(key=lambda b: b[0])\n",
    "    for i in b:\n",
    "    ##   print(i[0]+','+str(i[1]))\n",
    "       sys.stdout.write(\"{}\\n\".format((i[0]+'\\t'+ i[1]+'\\t'+str(i[2]))))"
   ]
  },
  {
   "cell_type": "code",
   "execution_count": 20,
   "metadata": {},
   "outputs": [],
   "source": [
    "!chmod +x reducer.py"
   ]
  },
  {
   "cell_type": "code",
   "execution_count": 21,
   "metadata": {},
   "outputs": [
    {
     "name": "stdout",
     "output_type": "stream",
     "text": [
      "A\t1990-07-22\t0\n",
      "A\t1990-09-26\t8\n",
      "A\t1992-09-19\t9\n",
      "A\t1990-10-06\t10\n",
      "A\t1990-09-05\t11\n",
      "A\t1990-08-31\t12\n",
      "A\t1997-12-15\t13\n",
      "A\t1994-10-25\t14\n",
      "A\t1993-01-11\t15\n",
      "A\t1992-08-22\t16\n",
      "A\t1993-05-08\t17\n",
      "A\t1988-04-27\t121\n",
      "B\t1995-08-23\t1\n",
      "B\t1991-10-01\t9\n",
      "B\t1999-10-21\t13\n",
      "B\t1997-04-09\t14\n",
      "B\t1995-09-06\t15\n",
      "B\t1993-03-02\t16\n",
      "B\t1999-08-28\t17\n",
      "B\t1994-08-30\t18\n",
      "B\t1999-06-11\t121\n",
      "B\t1998-11-22\t131\n",
      "C\t1994-01-25\t10\n",
      "C\t1991-02-12\t13\n",
      "C\t1994-09-09\t15\n",
      "C\t1994-07-27\t104\n",
      "D\t1990-10-10\t15\n",
      "E\t1998-09-14\t2\n",
      "E\t1995-04-25\t3\n",
      "E\t1993-07-21\t4\n",
      "E\t1993-01-27\t9\n",
      "E\t1994-02-14\t10\n",
      "E\t1999-09-10\t11\n",
      "E\t1999-12-06\t12\n",
      "E\t1999-01-14\t15\n",
      "E\t1990-05-03\t16\n",
      "E\t1985-02-12\t17\n",
      "E\t1990-02-09\t18\n",
      "E\t1993-12-27\t19\n",
      "E\t1991-02-18\t141\n"
     ]
    }
   ],
   "source": [
    "!cat ./data.csv | ./mapper.py | sort | ./reducer.py"
   ]
  },
  {
   "cell_type": "code",
   "execution_count": null,
   "metadata": {},
   "outputs": [],
   "source": []
  }
 ],
 "metadata": {
  "kernelspec": {
   "display_name": "Python 3",
   "language": "python",
   "name": "python3"
  },
  "language_info": {
   "codemirror_mode": {
    "name": "ipython",
    "version": 3
   },
   "file_extension": ".py",
   "mimetype": "text/x-python",
   "name": "python",
   "nbconvert_exporter": "python",
   "pygments_lexer": "ipython3",
   "version": "3.6.8"
  }
 },
 "nbformat": 4,
 "nbformat_minor": 4
}
