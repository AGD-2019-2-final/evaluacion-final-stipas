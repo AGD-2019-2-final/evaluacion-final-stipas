{
 "cells": [
  {
   "cell_type": "code",
   "execution_count": 1,
   "metadata": {},
   "outputs": [
    {
     "name": "stdout",
     "output_type": "stream",
     "text": [
      "Overwriting mapper.py\n"
     ]
    }
   ],
   "source": [
    "%%writefile mapper.py\n",
    "#! /usr/bin/env python\n",
    "\n",
    "import sys\n",
    "if __name__ == \"__main__\":\n",
    "\n",
    "    # input comes from STDIN (standard input)\n",
    "    for line in sys.stdin:\n",
    "        line = line.strip()\n",
    "        line = line.split(',')\n",
    "\n",
    "        if len(line) >=2:\n",
    "            purpose = line[3]\n",
    "            amount = line[4]\n",
    "            \n",
    "\n",
    "            sys.stdout.write(\"{},{}\\n\".format(purpose, amount))\n",
    "        ##    print ('%s\\t%s' % (purpose, amount))"
   ]
  },
  {
   "cell_type": "code",
   "execution_count": 2,
   "metadata": {},
   "outputs": [],
   "source": [
    "!chmod +x mapper.py"
   ]
  },
  {
   "cell_type": "code",
   "execution_count": 3,
   "metadata": {},
   "outputs": [
    {
     "name": "stdout",
     "output_type": "stream",
     "text": [
      "radio/tv,1169\n",
      "radio/tv,5951\n",
      "education,2096\n",
      "furniture,7882\n",
      "car (new),4870\n",
      "education,9055\n",
      "furniture,2835\n",
      "car (used),6948\n",
      "radio/tv,3059\n",
      "car (new),5234\n",
      "Traceback (most recent call last):\n",
      "  File \"./mapper.py\", line 16, in <module>\n",
      "    sys.stdout.write(\"{},{}\\n\".format(purpose, amount))\n",
      "IOError: [Errno 32] Broken pipe\n"
     ]
    }
   ],
   "source": [
    "!cat ./credit.csv | ./mapper.py | head"
   ]
  },
  {
   "cell_type": "code",
   "execution_count": 4,
   "metadata": {},
   "outputs": [
    {
     "name": "stdout",
     "output_type": "stream",
     "text": [
      "Overwriting reducer.py\n"
     ]
    }
   ],
   "source": [
    "%%writefile reducer.py\n",
    "#!/usr/bin/env python\n",
    "import sys\n",
    "## Esta funcion reduce los elementos que\n",
    "## tienen la misma clave\n",
    "if __name__ == '__main__':\n",
    "\n",
    "    purpose_1={}\n",
    "    total = 0\n",
    "    ## cada linea de texto recibida es una\n",
    "    ## entrada clave \\tabulador valor\n",
    "    for line in sys.stdin:\n",
    "        line = line.strip()\n",
    "        purpose, amount = line.split(',')\n",
    "        amount=int(amount)\n",
    "        if purpose in purpose_1:\n",
    "          purpose_1[purpose].append(amount)\n",
    "        else:\n",
    "            purpose_1[purpose]=[]\n",
    "            purpose_1[purpose].append(amount)\n",
    "    for purpose in purpose_1.keys():\n",
    "        sump=max(purpose_1[purpose])\n",
    "        sys.stdout.write(\"{}\\t{}\\n\".format(purpose, sump))"
   ]
  },
  {
   "cell_type": "code",
   "execution_count": 5,
   "metadata": {},
   "outputs": [],
   "source": [
    "!chmod +x reducer.py"
   ]
  },
  {
   "cell_type": "code",
   "execution_count": 6,
   "metadata": {},
   "outputs": [
    {
     "name": "stdout",
     "output_type": "stream",
     "text": [
      "business\t15945\n",
      "car (new)\t14896\n",
      "car (used)\t12976\n",
      "domestic appliances\t3990\n",
      "education\t12612\n",
      "furniture\t14179\n",
      "others\t18424\n",
      "radio/tv\t15653\n",
      "repairs\t11998\n",
      "retraining\t3447\n"
     ]
    }
   ],
   "source": [
    "!cat ./credit.csv | ./mapper.py | ./reducer.py | sort | head"
   ]
  },
  {
   "cell_type": "code",
   "execution_count": null,
   "metadata": {},
   "outputs": [],
   "source": []
  }
 ],
 "metadata": {
  "kernelspec": {
   "display_name": "Python 3",
   "language": "python",
   "name": "python3"
  },
  "language_info": {
   "codemirror_mode": {
    "name": "ipython",
    "version": 3
   },
   "file_extension": ".py",
   "mimetype": "text/x-python",
   "name": "python",
   "nbconvert_exporter": "python",
   "pygments_lexer": "ipython3",
   "version": "3.6.8"
  }
 },
 "nbformat": 4,
 "nbformat_minor": 4
}
