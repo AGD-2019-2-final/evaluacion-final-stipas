{
 "cells": [
  {
   "cell_type": "code",
   "execution_count": 13,
   "metadata": {
    "colab": {
     "base_uri": "https://localhost:8080/",
     "height": 34
    },
    "colab_type": "code",
    "executionInfo": {
     "elapsed": 914,
     "status": "ok",
     "timestamp": 1576801131044,
     "user": {
      "displayName": "Saulo Sebastian Tipas Puerres",
      "photoUrl": "https://lh3.googleusercontent.com/a-/AAuE7mCQu5YfliCpk9h8k9mx3iFSoHT2_8SDvvxM1CO-=s64",
      "userId": "05224778346041988074"
     },
     "user_tz": 300
    },
    "id": "zV1zVIb3_zqp",
    "outputId": "3a62d20a-d7a8-40e4-811f-b4a02a147875"
   },
   "outputs": [
    {
     "name": "stdout",
     "output_type": "stream",
     "text": [
      "Overwriting mapper.py\n"
     ]
    }
   ],
   "source": [
    "%%writefile mapper.py\n",
    "#! /usr/bin/env python\n",
    "\n",
    "import sys\n",
    "if __name__ == \"__main__\":\n",
    "\n",
    "    for line in sys.stdin:\n",
    "        line = line.strip()\n",
    "        key = line.split('\\t')[0]\n",
    "        Letter = line.split('\\t')[1]\n",
    "        Letter = Letter.split(',')\n",
    "        for i in Letter:\n",
    "            sys.stdout.write(\"{},{}\\n\".format(i,key))"
   ]
  },
  {
   "cell_type": "code",
   "execution_count": 14,
   "metadata": {
    "colab": {},
    "colab_type": "code",
    "id": "H-kOG-oeACaG"
   },
   "outputs": [],
   "source": [
    "!chmod +x mapper.py"
   ]
  },
  {
   "cell_type": "code",
   "execution_count": 15,
   "metadata": {
    "colab": {
     "base_uri": "https://localhost:8080/",
     "height": 187
    },
    "colab_type": "code",
    "executionInfo": {
     "elapsed": 2086,
     "status": "ok",
     "timestamp": 1576801141332,
     "user": {
      "displayName": "Saulo Sebastian Tipas Puerres",
      "photoUrl": "https://lh3.googleusercontent.com/a-/AAuE7mCQu5YfliCpk9h8k9mx3iFSoHT2_8SDvvxM1CO-=s64",
      "userId": "05224778346041988074"
     },
     "user_tz": 300
    },
    "id": "0VBYhftEAFsR",
    "outputId": "d19ae530-4381-4ec3-f6dd-7125fad541d5"
   },
   "outputs": [
    {
     "name": "stdout",
     "output_type": "stream",
     "text": [
      "C,0\n",
      "F,0\n",
      "A,0\n",
      "B,0\n",
      "D,0\n",
      "I,0\n",
      "H,0\n",
      "A,1\n",
      "H,1\n",
      "C,1\n"
     ]
    }
   ],
   "source": [
    "!cat ./data.csv | ./mapper.py | head"
   ]
  },
  {
   "cell_type": "code",
   "execution_count": 16,
   "metadata": {
    "colab": {
     "base_uri": "https://localhost:8080/",
     "height": 34
    },
    "colab_type": "code",
    "executionInfo": {
     "elapsed": 506,
     "status": "ok",
     "timestamp": 1576812083599,
     "user": {
      "displayName": "Saulo Sebastian Tipas Puerres",
      "photoUrl": "https://lh3.googleusercontent.com/a-/AAuE7mCQu5YfliCpk9h8k9mx3iFSoHT2_8SDvvxM1CO-=s64",
      "userId": "05224778346041988074"
     },
     "user_tz": 300
    },
    "id": "adpG1pCZANUx",
    "outputId": "5b422d63-7242-4258-bff5-8e42bb076a7a"
   },
   "outputs": [
    {
     "name": "stdout",
     "output_type": "stream",
     "text": [
      "Overwriting reducer.py\n"
     ]
    }
   ],
   "source": [
    "%%writefile reducer.py\n",
    "#!/usr/bin/env python\n",
    "import sys\n",
    "\n",
    "if __name__ == '__main__':\n",
    "    Letter={}\n",
    "    #total = 0\n",
    "    for line in sys.stdin:\n",
    "        line = line.strip()\n",
    "        key = line.split(',')[0]\n",
    "        amount = line.split(',')[1]\n",
    "        amount = int(amount)\n",
    "        if key in Letter.keys():\n",
    "          Letter[key].append(amount)\n",
    "        else:\n",
    "          Letter[key]=[]\n",
    "          Letter[key].append(amount)\n",
    "    for key, val in Letter.items():\n",
    "        val = list(map(int, val))\n",
    "        val = sorted(val, key=lambda x: x)\n",
    "        val = str(val)[1:-1]\n",
    "        val = val.replace(\", \", \",\")\n",
    "        sys.stdout.write(\"{}\\t{}\\n\".format(key, val))"
   ]
  },
  {
   "cell_type": "code",
   "execution_count": 17,
   "metadata": {
    "colab": {},
    "colab_type": "code",
    "id": "K2_IM9fHA9R0"
   },
   "outputs": [],
   "source": [
    "!chmod +x reducer.py"
   ]
  },
  {
   "cell_type": "code",
   "execution_count": 18,
   "metadata": {
    "colab": {
     "base_uri": "https://localhost:8080/",
     "height": 153
    },
    "colab_type": "code",
    "executionInfo": {
     "elapsed": 1498,
     "status": "ok",
     "timestamp": 1576812087886,
     "user": {
      "displayName": "Saulo Sebastian Tipas Puerres",
      "photoUrl": "https://lh3.googleusercontent.com/a-/AAuE7mCQu5YfliCpk9h8k9mx3iFSoHT2_8SDvvxM1CO-=s64",
      "userId": "05224778346041988074"
     },
     "user_tz": 300
    },
    "id": "BSsSgTwzA-JD",
    "outputId": "b216178e-c0fc-422d-a6af-285791af62ee"
   },
   "outputs": [
    {
     "name": "stdout",
     "output_type": "stream",
     "text": [
      "A\t0,1,5,7,8,9,10,12,13,14,15,16,17,18,21,23,24,25,26,27,28,29\n",
      "C\t0,1,3,4,5,6,7,9,10,11,12,14,15,17,20,21,22,23,25,28,29\n",
      "B\t0,1,2,3,5,6,7,8,9,10,11,12,15,16,17,18,19,20,21,22,23,25,26,27,29\n",
      "D\t0,1,3,4,5,6,6,7,8,9,9,10,11,12,12,13,14,15,16,17,18,19,19,20,20,21,23,23,24,26,26,27,28,29,29\n",
      "G\t2,4,6,7,9,11,12,14,15,17,20,21,22,24,25,26,27,29\n",
      "F\t0,1,2,6,7,8,9,11,12,13,15,17,18,19,20,21,22,23,24,25,26,27,28,29\n",
      "I\t0,1,2,4,7,8,9,11,15,16,18,19,20,22,25,26,27\n",
      "H\t0,1,2,4,5,6,7,10,11,12,15,17,18,20,22,23,24,25,26,27,28,29\n"
     ]
    }
   ],
   "source": [
    "!cat ./data.csv | ./mapper.py | sort | ./reducer.py "
   ]
  },
  {
   "cell_type": "code",
   "execution_count": null,
   "metadata": {},
   "outputs": [],
   "source": []
  }
 ],
 "metadata": {
  "colab": {
   "name": "Copia de Hadoop_q10-10-.ipynb",
   "provenance": [
    {
     "file_id": "18mNFmVBUC3gr3O2dXZm351hhEEtqYBel",
     "timestamp": 1578962244582
    }
   ]
  },
  "kernelspec": {
   "display_name": "Python 3",
   "language": "python",
   "name": "python3"
  },
  "language_info": {
   "codemirror_mode": {
    "name": "ipython",
    "version": 3
   },
   "file_extension": ".py",
   "mimetype": "text/x-python",
   "name": "python",
   "nbconvert_exporter": "python",
   "pygments_lexer": "ipython3",
   "version": "3.6.8"
  }
 },
 "nbformat": 4,
 "nbformat_minor": 4
}
