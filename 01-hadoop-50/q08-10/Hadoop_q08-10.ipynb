{
 "cells": [
  {
   "cell_type": "code",
   "execution_count": 7,
   "metadata": {},
   "outputs": [
    {
     "name": "stdout",
     "output_type": "stream",
     "text": [
      "Overwriting mapper.py\n"
     ]
    }
   ],
   "source": [
    "%%writefile mapper.py\n",
    "#! /usr/bin/env python\n",
    "\n",
    "import sys\n",
    "if __name__ == \"__main__\":\n",
    "\n",
    "    # input comes from STDIN (standard input)\n",
    "    for line in sys.stdin:\n",
    "        line = line.strip()\n",
    "        line = line.split('   ')\n",
    "\n",
    "        if len(line) >=2:\n",
    "            letra = line[0]\n",
    "            valor = line[2]            \n",
    "\n",
    "            sys.stdout.write(\"{},{}\\n\".format(letra, valor))\n",
    "        ##    print ('%s\\t%s' % (purpose, amount))"
   ]
  },
  {
   "cell_type": "code",
   "execution_count": 8,
   "metadata": {},
   "outputs": [],
   "source": [
    "!chmod +x mapper.py"
   ]
  },
  {
   "cell_type": "code",
   "execution_count": 9,
   "metadata": {},
   "outputs": [
    {
     "name": "stdout",
     "output_type": "stream",
     "text": [
      "A,10\n",
      "A,11\n",
      "A,12\n",
      "A,12\n",
      "A,13\n",
      "A,13\n",
      "A,14\n",
      "A,14\n",
      "A,14\n",
      "A,16\n"
     ]
    }
   ],
   "source": [
    "!cat ./data.csv | ./mapper.py | sort | head"
   ]
  },
  {
   "cell_type": "code",
   "execution_count": 10,
   "metadata": {},
   "outputs": [
    {
     "name": "stdout",
     "output_type": "stream",
     "text": [
      "Overwriting reducer.py\n"
     ]
    }
   ],
   "source": [
    "%%writefile reducer.py\n",
    "#!/usr/bin/env python\n",
    "import sys\n",
    "## Esta funcion reduce los elementos que\n",
    "## tienen la misma clave\n",
    "if __name__ == '__main__':\n",
    "\n",
    "    letra_1={}\n",
    "    total = 0\n",
    "    ## cada linea de texto recibida es una\n",
    "    ## entrada clave \\tabulador valor\n",
    "    for line in sys.stdin:\n",
    "        line = line.strip()\n",
    "        letra, valor = line.split(',')\n",
    "        valor=float(valor)\n",
    "        if letra in letra_1:\n",
    "          letra_1[letra].append(valor)\n",
    "        else:\n",
    "            letra_1[letra]=[]\n",
    "            letra_1[letra].append(valor)\n",
    "    for letra in letra_1.keys():\n",
    "        suma=sum(letra_1[letra])\n",
    "        prom=sum(letra_1[letra])/len(letra_1[letra])\n",
    "    \n",
    "        sys.stdout.write(\"{}\\t{}\\t{}\\n\".format(letra, suma, prom))"
   ]
  },
  {
   "cell_type": "code",
   "execution_count": 11,
   "metadata": {},
   "outputs": [],
   "source": [
    "!chmod +x reducer.py"
   ]
  },
  {
   "cell_type": "code",
   "execution_count": 12,
   "metadata": {},
   "outputs": [
    {
     "name": "stdout",
     "output_type": "stream",
     "text": [
      "A\t165.0\t13.75\n",
      "B\t136.0\t13.6\n",
      "C\t48.0\t12.0\n",
      "D\t15.0\t15.0\n",
      "E\t192.0\t14.7692307692\n"
     ]
    }
   ],
   "source": [
    "!cat ./data.csv | ./mapper.py | ./reducer.py | sort"
   ]
  },
  {
   "cell_type": "code",
   "execution_count": null,
   "metadata": {},
   "outputs": [],
   "source": []
  }
 ],
 "metadata": {
  "kernelspec": {
   "display_name": "Python 3",
   "language": "python",
   "name": "python3"
  },
  "language_info": {
   "codemirror_mode": {
    "name": "ipython",
    "version": 3
   },
   "file_extension": ".py",
   "mimetype": "text/x-python",
   "name": "python",
   "nbconvert_exporter": "python",
   "pygments_lexer": "ipython3",
   "version": "3.6.8"
  }
 },
 "nbformat": 4,
 "nbformat_minor": 4
}
