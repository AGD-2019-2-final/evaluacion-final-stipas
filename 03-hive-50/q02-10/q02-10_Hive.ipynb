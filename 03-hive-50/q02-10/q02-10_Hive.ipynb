{
 "cells": [
  {
   "cell_type": "code",
   "execution_count": 1,
   "metadata": {},
   "outputs": [],
   "source": [
    "%load_ext bigdata"
   ]
  },
  {
   "cell_type": "code",
   "execution_count": 2,
   "metadata": {},
   "outputs": [],
   "source": [
    "%hive_start"
   ]
  },
  {
   "cell_type": "code",
   "execution_count": 3,
   "metadata": {},
   "outputs": [],
   "source": [
    "%timeout 300"
   ]
  },
  {
   "cell_type": "code",
   "execution_count": 4,
   "metadata": {},
   "outputs": [
    {
     "name": "stdout",
     "output_type": "stream",
     "text": [
      "-rw-r--r--   1 root supergroup        637 2020-01-20 00:11 /tmp/output/data.tsv\n"
     ]
    }
   ],
   "source": [
    "## Borra la carpeta si existe\n",
    "!hdfs dfs -rm -r -f /tmp/output\n",
    "\n",
    "##\n",
    "## Crea la carpeta drivers en el HDFS\n",
    "##\n",
    "!hdfs dfs -mkdir /tmp/output\n",
    "\n",
    "##\n",
    "## Copia los archivos al HDFS\n",
    "##\n",
    "!hdfs dfs -copyFromLocal data.tsv  /tmp/output/data.tsv\n",
    "\n",
    "##\n",
    "## Lista los archivos al HDFS para verificar\n",
    "## que los archivos fueron copiados correctamente.\n",
    "##\n",
    "!hdfs dfs -ls /tmp/output/*"
   ]
  },
  {
   "cell_type": "code",
   "execution_count": 5,
   "metadata": {},
   "outputs": [
    {
     "name": "stdout",
     "output_type": "stream",
     "text": [
      "DROP TABLE IF EXISTS data;\n",
      "OK\n",
      "Time taken: 14.285 seconds\n",
      "CREATE TABLE data (letra       STRING,\n",
      "                           fecha        STRING,\n",
      "                           numero      INT)\n",
      "ROW FORMAT DELIMITED\n",
      "FIELDS TERMINATED BY '\\t';\n",
      "OK\n",
      "Time taken: 1.349 seconds\n"
     ]
    }
   ],
   "source": [
    "%%hive\n",
    "DROP TABLE IF EXISTS data;\n",
    "\n",
    "CREATE TABLE data (letra       STRING,\n",
    "                           fecha        STRING,\n",
    "                           numero      INT)\n",
    "\n",
    "ROW FORMAT DELIMITED\n",
    "FIELDS TERMINATED BY '\\t';\n"
   ]
  },
  {
   "cell_type": "code",
   "execution_count": 6,
   "metadata": {},
   "outputs": [
    {
     "name": "stdout",
     "output_type": "stream",
     "text": [
      "LOAD DATA INPATH '/tmp/output/data.tsv' OVERWRITE\n",
      "INTO TABLE data;\n",
      "Loading data to table default.data\n",
      "OK\n",
      "Time taken: 1.885 seconds\n"
     ]
    }
   ],
   "source": [
    "%%hive\n",
    "LOAD DATA INPATH '/tmp/output/data.tsv' OVERWRITE\n",
    "INTO TABLE data;"
   ]
  },
  {
   "cell_type": "code",
   "execution_count": 8,
   "metadata": {},
   "outputs": [
    {
     "name": "stdout",
     "output_type": "stream",
     "text": [
      "SELECT letra, fecha, numero\n",
      "    FROM data\n",
      "ORDER BY\n",
      "    letra,\n",
      "    numero;\n",
      "WARNING: Hive-on-MR is deprecated in Hive 2 and may not be available in the future versions. Consider using a different execution engine (i.e. spark, tez) or using Hive 1.X releases.\n",
      "Query ID = root_20200120001326_ddbd934f-c0c6-4d3a-a6d8-4fe4df20fdf8\n",
      "Total jobs = 1\n",
      "Launching Job 1 out of 1\n",
      "Number of reduce tasks determined at compile time: 1\n",
      "In order to change the average load for a reducer (in bytes):\n",
      "  set hive.exec.reducers.bytes.per.reducer=<number>\n",
      "In order to limit the maximum number of reducers:\n",
      "  set hive.exec.reducers.max=<number>\n",
      "In order to set a constant number of reducers:\n",
      "  set mapreduce.job.reduces=<number>\n",
      "Starting Job = job_1579478963428_0001, Tracking URL = http://daeffe6f880e:8088/proxy/application_1579478963428_0001/\n",
      "Kill Command = /usr/local/hadoop/bin/hadoop job  -kill job_1579478963428_0001\n",
      "Hadoop job information for Stage-1: number of mappers: 1; number of reducers: 1\n",
      "2020-01-20 00:13:43,410 Stage-1 map = 0%,  reduce = 0%\n",
      "2020-01-20 00:13:50,334 Stage-1 map = 100%,  reduce = 0%, Cumulative CPU 2.32 sec\n",
      "2020-01-20 00:13:58,158 Stage-1 map = 100%,  reduce = 100%, Cumulative CPU 4.96 sec\n",
      "MapReduce Total cumulative CPU time: 4 seconds 960 msec\n",
      "Ended Job = job_1579478963428_0001\n",
      "MapReduce Jobs Launched: \n",
      "Stage-Stage-1: Map: 1  Reduce: 1   Cumulative CPU: 4.96 sec   HDFS Read: 8010 HDFS Write: 1204 SUCCESS\n",
      "Total MapReduce CPU Time Spent: 4 seconds 960 msec\n",
      "OK\n",
      "A\t1990-10-06\t10\n",
      "A\t1990-09-05\t11\n",
      "A\t1988-04-27\t12\n",
      "A\t1990-08-31\t12\n",
      "A\t1997-12-15\t13\n",
      "A\t1994-10-25\t13\n",
      "A\t1993-01-11\t14\n",
      "A\t1992-08-22\t14\n",
      "A\t1990-09-26\t14\n",
      "A\t1993-05-08\t16\n",
      "A\t1990-07-22\t18\n",
      "A\t1992-09-19\t18\n",
      "B\t1995-08-23\t10\n",
      "B\t1999-06-11\t12\n",
      "B\t1998-11-22\t13\n",
      "B\t1999-10-21\t13\n",
      "B\t1997-04-09\t14\n",
      "B\t1995-09-06\t14\n",
      "B\t1993-03-02\t14\n",
      "B\t1999-08-28\t14\n",
      "B\t1991-10-01\t15\n",
      "B\t1994-08-30\t17\n",
      "C\t1994-01-25\t6\n",
      "C\t1994-07-27\t7\n",
      "C\t1991-02-12\t13\n",
      "C\t1994-09-09\t15\n",
      "D\t1990-10-10\t15\n",
      "E\t1994-02-14\t5\n",
      "E\t1999-09-10\t11\n",
      "E\t1999-12-06\t12\n",
      "E\t1993-01-27\t13\n",
      "E\t1991-02-18\t14\n",
      "E\t1999-01-14\t15\n",
      "E\t1990-05-03\t16\n",
      "E\t1998-09-14\t16\n",
      "E\t1985-02-12\t16\n",
      "E\t1995-04-25\t16\n",
      "E\t1993-07-21\t17\n",
      "E\t1990-02-09\t18\n",
      "E\t1993-12-27\t18\n",
      "Time taken: 34.119 seconds, Fetched: 40 row(s)\n"
     ]
    }
   ],
   "source": [
    "%%hive\n",
    "SELECT letra, fecha, numero\n",
    "    FROM data\n",
    "ORDER BY\n",
    "    letra,\n",
    "    numero;"
   ]
  },
  {
   "cell_type": "code",
   "execution_count": null,
   "metadata": {},
   "outputs": [],
   "source": []
  }
 ],
 "metadata": {
  "kernelspec": {
   "display_name": "Python 3",
   "language": "python",
   "name": "python3"
  },
  "language_info": {
   "codemirror_mode": {
    "name": "ipython",
    "version": 3
   },
   "file_extension": ".py",
   "mimetype": "text/x-python",
   "name": "python",
   "nbconvert_exporter": "python",
   "pygments_lexer": "ipython3",
   "version": "3.6.8"
  }
 },
 "nbformat": 4,
 "nbformat_minor": 4
}
