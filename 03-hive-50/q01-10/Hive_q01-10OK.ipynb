{
 "cells": [
  {
   "cell_type": "code",
   "execution_count": 1,
   "metadata": {},
   "outputs": [],
   "source": [
    "%load_ext bigdata"
   ]
  },
  {
   "cell_type": "code",
   "execution_count": 2,
   "metadata": {},
   "outputs": [],
   "source": [
    "%hive_start"
   ]
  },
  {
   "cell_type": "code",
   "execution_count": 3,
   "metadata": {},
   "outputs": [],
   "source": [
    "%timeout 300"
   ]
  },
  {
   "cell_type": "code",
   "execution_count": 4,
   "metadata": {},
   "outputs": [],
   "source": [
    "!hadoop fs -rm -f -r tmp;"
   ]
  },
  {
   "cell_type": "code",
   "execution_count": 5,
   "metadata": {},
   "outputs": [
    {
     "name": "stdout",
     "output_type": "stream",
     "text": [
      "-rw-r--r--   1 root supergroup        637 2020-01-20 02:08 /tmp/output/data.tsv\n"
     ]
    }
   ],
   "source": [
    "## Borra la carpeta si existe\n",
    "!hdfs dfs -rm -r -f /tmp/output\n",
    "## Crea la carpeta drivers en el HDFS\n",
    "!hdfs dfs -mkdir /tmp/output\n",
    "## Copia los archivos al HDFS\n",
    "!hdfs dfs -copyFromLocal data.tsv  /tmp/output/data.tsv\n",
    "## Lista los archivos al HDFS para verificar\n",
    "## que los archivos fueron copiados correctamente.\n",
    "!hdfs dfs -ls /tmp/output/*"
   ]
  },
  {
   "cell_type": "code",
   "execution_count": 6,
   "metadata": {},
   "outputs": [
    {
     "name": "stdout",
     "output_type": "stream",
     "text": [
      "DROP TABLE IF EXISTS data;\n",
      "OK\n",
      "Time taken: 14.377 seconds\n",
      "CREATE TABLE data (letra  STRING,\n",
      "                   fecha   STRING,\n",
      "                    numero   INT)\n",
      "ROW FORMAT DELIMITED \n",
      "FIELDS TERMINATED BY '\\t'\n",
      "COLLECTION ITEMS TERMINATED BY ':'\n",
      "MAP KEYS TERMINATED BY '#'\n",
      "LINES TERMINATED BY '\\n';\n",
      "OK\n",
      "Time taken: 1.221 seconds\n",
      "LOAD DATA LOCAL INPATH 'data.tsv' INTO TABLE data;\n",
      "Loading data to table default.data\n",
      "OK\n",
      "Time taken: 1.849 seconds\n"
     ]
    }
   ],
   "source": [
    "%%hive\n",
    "DROP TABLE IF EXISTS data;\n",
    "CREATE TABLE data (letra  STRING,\n",
    "                   fecha   STRING,\n",
    "                    numero   INT)\n",
    "\n",
    "ROW FORMAT DELIMITED \n",
    "FIELDS TERMINATED BY '\\t'\n",
    "COLLECTION ITEMS TERMINATED BY ':'\n",
    "MAP KEYS TERMINATED BY '#'\n",
    "LINES TERMINATED BY '\\n';\n",
    "LOAD DATA LOCAL INPATH 'data.tsv' INTO TABLE data;"
   ]
  },
  {
   "cell_type": "code",
   "execution_count": 7,
   "metadata": {},
   "outputs": [
    {
     "name": "stdout",
     "output_type": "stream",
     "text": [
      "--\n",
      "-- para guardar la consulta se debe almacenar en un tabla\n",
      "DROP TABLE IF EXISTS salida;\n",
      "OK\n",
      "Time taken: 0.02 seconds\n",
      "CREATE TABLE salida\n",
      "AS\n",
      "SELECT letra,               \n",
      "       count(1) AS count\n",
      "    FROM data\n",
      "GROUP BY\n",
      "    letra\n",
      "ORDER BY\n",
      "    letra;\n",
      "WARNING: Hive-on-MR is deprecated in Hive 2 and may not be available in the future versions. Consider using a different execution engine (i.e. spark, tez) or using Hive 1.X releases.\n",
      "Query ID = root_20200120020903_000615cc-0fc6-4169-9be5-6c0eb0bc9b6d\n",
      "Total jobs = 2\n",
      "Launching Job 1 out of 2\n",
      "Number of reduce tasks not specified. Estimated from input data size: 1\n",
      "In order to change the average load for a reducer (in bytes):\n",
      "  set hive.exec.reducers.bytes.per.reducer=<number>\n",
      "In order to limit the maximum number of reducers:\n",
      "  set hive.exec.reducers.max=<number>\n",
      "In order to set a constant number of reducers:\n",
      "  set mapreduce.job.reduces=<number>\n",
      "Starting Job = job_1579485948857_0001, Tracking URL = http://4600529f367e:8088/proxy/application_1579485948857_0001/\n",
      "Kill Command = /usr/local/hadoop/bin/hadoop job  -kill job_1579485948857_0001\n",
      "Hadoop job information for Stage-1: number of mappers: 1; number of reducers: 1\n",
      "2020-01-20 02:09:22,912 Stage-1 map = 0%,  reduce = 0%\n",
      "2020-01-20 02:09:30,034 Stage-1 map = 100%,  reduce = 0%, Cumulative CPU 2.53 sec\n",
      "2020-01-20 02:09:36,920 Stage-1 map = 100%,  reduce = 100%, Cumulative CPU 4.46 sec\n",
      "MapReduce Total cumulative CPU time: 4 seconds 460 msec\n",
      "Ended Job = job_1579485948857_0001\n",
      "Launching Job 2 out of 2\n",
      "Number of reduce tasks determined at compile time: 1\n",
      "In order to change the average load for a reducer (in bytes):\n",
      "  set hive.exec.reducers.bytes.per.reducer=<number>\n",
      "In order to limit the maximum number of reducers:\n",
      "  set hive.exec.reducers.max=<number>\n",
      "In order to set a constant number of reducers:\n",
      "  set mapreduce.job.reduces=<number>\n",
      "Starting Job = job_1579485948857_0002, Tracking URL = http://4600529f367e:8088/proxy/application_1579485948857_0002/\n",
      "Kill Command = /usr/local/hadoop/bin/hadoop job  -kill job_1579485948857_0002\n",
      "Hadoop job information for Stage-2: number of mappers: 1; number of reducers: 1\n",
      "2020-01-20 02:09:53,178 Stage-2 map = 0%,  reduce = 0%\n",
      "2020-01-20 02:09:59,953 Stage-2 map = 100%,  reduce = 0%, Cumulative CPU 2.1 sec\n",
      "2020-01-20 02:10:06,791 Stage-2 map = 100%,  reduce = 100%, Cumulative CPU 4.45 sec\n",
      "MapReduce Total cumulative CPU time: 4 seconds 450 msec\n",
      "Ended Job = job_1579485948857_0002\n",
      "Moving data to directory hdfs://0.0.0.0:9000/user/hive/warehouse/salida\n",
      "MapReduce Jobs Launched: \n",
      "Stage-Stage-1: Map: 1  Reduce: 1   Cumulative CPU: 4.46 sec   HDFS Read: 7889 HDFS Write: 196 SUCCESS\n",
      "Stage-Stage-2: Map: 1  Reduce: 1   Cumulative CPU: 4.45 sec   HDFS Read: 5346 HDFS Write: 93 SUCCESS\n",
      "Total MapReduce CPU Time Spent: 8 seconds 910 msec\n",
      "OK\n",
      "Time taken: 66.144 seconds\n"
     ]
    }
   ],
   "source": [
    "%%hive\n",
    "--\n",
    "-- para guardar la consulta se debe almacenar en un tabla\n",
    "DROP TABLE IF EXISTS salida;\n",
    "CREATE TABLE salida\n",
    "AS\n",
    "SELECT letra,               \n",
    "       count(1) AS count\n",
    "    FROM data\n",
    "GROUP BY\n",
    "    letra\n",
    "ORDER BY\n",
    "    letra;"
   ]
  },
  {
   "cell_type": "code",
   "execution_count": 8,
   "metadata": {},
   "outputs": [
    {
     "name": "stdout",
     "output_type": "stream",
     "text": [
      "DROP TABLE IF EXISTS data;\n",
      "OK\n",
      "Time taken: 0.686 seconds\n"
     ]
    }
   ],
   "source": [
    "%%hive\n",
    "DROP TABLE IF EXISTS data;"
   ]
  },
  {
   "cell_type": "code",
   "execution_count": 9,
   "metadata": {},
   "outputs": [
    {
     "name": "stdout",
     "output_type": "stream",
     "text": [
      "-- \n",
      "INSERT OVERWRITE DIRECTORY 'tmp/000000_0'\n",
      "ROW FORMAT DELIMITED FIELDS TERMINATED BY ','\n",
      "SELECT\n",
      "    *\n",
      "FROM\n",
      "    salida;\n",
      "WARNING: Hive-on-MR is deprecated in Hive 2 and may not be available in the future versions. Consider using a different execution engine (i.e. spark, tez) or using Hive 1.X releases.\n",
      "Query ID = root_20200120021028_8fb45e3d-b147-4afd-9e39-ac0e7eabee88\n",
      "Total jobs = 3\n",
      "Launching Job 1 out of 3\n",
      "Number of reduce tasks is set to 0 since there's no reduce operator\n",
      "Starting Job = job_1579485948857_0003, Tracking URL = http://4600529f367e:8088/proxy/application_1579485948857_0003/\n",
      "Kill Command = /usr/local/hadoop/bin/hadoop job  -kill job_1579485948857_0003\n",
      "Hadoop job information for Stage-1: number of mappers: 1; number of reducers: 0\n",
      "2020-01-20 02:10:38,194 Stage-1 map = 0%,  reduce = 0%\n",
      "2020-01-20 02:10:44,892 Stage-1 map = 100%,  reduce = 0%, Cumulative CPU 1.94 sec\n",
      "MapReduce Total cumulative CPU time: 1 seconds 940 msec\n",
      "Ended Job = job_1579485948857_0003\n",
      "Stage-3 is selected by condition resolver.\n",
      "Stage-2 is filtered out by condition resolver.\n",
      "Stage-4 is filtered out by condition resolver.\n",
      "Moving data to directory hdfs://0.0.0.0:9000/user/root/tmp/000000_0/.hive-staging_hive_2020-01-20_02-10-28_216_1911474019298627667-1/-ext-10000\n",
      "Moving data to directory tmp/000000_0\n",
      "MapReduce Jobs Launched: \n",
      "Stage-Stage-1: Map: 1   Cumulative CPU: 1.94 sec   HDFS Read: 3396 HDFS Write: 23 SUCCESS\n",
      "Total MapReduce CPU Time Spent: 1 seconds 940 msec\n",
      "OK\n",
      "Time taken: 18.913 seconds\n"
     ]
    }
   ],
   "source": [
    "%%hive\n",
    "-- \n",
    "INSERT OVERWRITE DIRECTORY 'tmp/000000_0'\n",
    "ROW FORMAT DELIMITED FIELDS TERMINATED BY ','\n",
    "SELECT\n",
    "    *\n",
    "FROM\n",
    "    salida;"
   ]
  },
  {
   "cell_type": "code",
   "execution_count": 10,
   "metadata": {},
   "outputs": [],
   "source": [
    "!hadoop fs -copyToLocal ./tmp/000000_0 output"
   ]
  },
  {
   "cell_type": "code",
   "execution_count": null,
   "metadata": {},
   "outputs": [],
   "source": [
    "%hive_quit"
   ]
  },
  {
   "cell_type": "code",
   "execution_count": null,
   "metadata": {},
   "outputs": [],
   "source": []
  },
  {
   "cell_type": "code",
   "execution_count": null,
   "metadata": {},
   "outputs": [],
   "source": []
  },
  {
   "cell_type": "code",
   "execution_count": null,
   "metadata": {},
   "outputs": [],
   "source": []
  },
  {
   "cell_type": "code",
   "execution_count": null,
   "metadata": {},
   "outputs": [],
   "source": []
  },
  {
   "cell_type": "code",
   "execution_count": null,
   "metadata": {},
   "outputs": [],
   "source": []
  },
  {
   "cell_type": "code",
   "execution_count": null,
   "metadata": {},
   "outputs": [],
   "source": []
  },
  {
   "cell_type": "code",
   "execution_count": 4,
   "metadata": {},
   "outputs": [
    {
     "name": "stdout",
     "output_type": "stream",
     "text": [
      "Deleted /tmp/output\n",
      "copyFromLocal: `data.tsv': No such file or directory\n",
      "ls: `/tmp/output/*': No such file or directory\n"
     ]
    }
   ],
   "source": [
    "## Borra la carpeta si existe\n",
    "!hdfs dfs -rm -r -f /tmp/output\n",
    "## Crea la carpeta drivers en el HDFS\n",
    "!hdfs dfs -mkdir /tmp/output\n",
    "## Copia los archivos al HDFS\n",
    "!hdfs dfs -copyFromLocal data.tsv  /tmp/output/data.tsv\n",
    "## Lista los archivos al HDFS para verificar\n",
    "## que los archivos fueron copiados correctamente.\n",
    "!hdfs dfs -ls /tmp/output/*"
   ]
  },
  {
   "cell_type": "code",
   "execution_count": 5,
   "metadata": {},
   "outputs": [
    {
     "name": "stdout",
     "output_type": "stream",
     "text": [
      "DROP TABLE IF EXISTS tbl0;\n",
      "OK\n",
      "Time taken: 22.773 seconds\n",
      "CREATE TABLE tbl0 (\n",
      "    c1 INT,\n",
      "    c2 STRING,\n",
      "    c3 INT,\n",
      "    c4 DATE,\n",
      "    c5 ARRAY<CHAR(1)>, \n",
      "    c6 MAP<STRING, INT>\n",
      ")\n",
      "ROW FORMAT DELIMITED \n",
      "FIELDS TERMINATED BY ','\n",
      "COLLECTION ITEMS TERMINATED BY ':'\n",
      "MAP KEYS TERMINATED BY '#'\n",
      "LINES TERMINATED BY '\\n';\n",
      "OK\n",
      "Time taken: 1.598 seconds\n",
      "LOAD DATA LOCAL INPATH 'tbl0.csv' INTO TABLE tbl0;\n",
      "Loading data to table default.tbl0\n",
      "OK\n",
      "Time taken: 2.595 seconds\n",
      "--\n",
      "DROP TABLE IF EXISTS tbl1;\n",
      "OK\n",
      "Time taken: 0.699 seconds\n",
      "CREATE TABLE tbl1 (\n",
      "    c1 INT,\n",
      "    c2 INT,\n",
      "    c3 STRING,\n",
      "    c4 MAP<STRING, INT>\n",
      ")\n",
      "ROW FORMAT DELIMITED \n",
      "FIELDS TERMINATED BY ','\n",
      "COLLECTION ITEMS TERMINATED BY ':'\n",
      "MAP KEYS TERMINATED BY '#'\n",
      "LINES TERMINATED BY '\\n';\n",
      "OK\n",
      "Time taken: 0.187 seconds\n",
      "LOAD DATA LOCAL INPATH 'tbl1.csv' INTO TABLE tbl1;\n",
      "Loading data to table default.tbl1\n",
      "OK\n",
      "Time taken: 2.574 seconds\n"
     ]
    }
   ],
   "source": [
    "%%hive\n",
    "DROP TABLE IF EXISTS tbl0;\n",
    "CREATE TABLE tbl0 (\n",
    "    c1 INT,\n",
    "    c2 STRING,\n",
    "    c3 INT,\n",
    "    c4 DATE,\n",
    "    c5 ARRAY<CHAR(1)>, \n",
    "    c6 MAP<STRING, INT>\n",
    ")\n",
    "ROW FORMAT DELIMITED \n",
    "FIELDS TERMINATED BY ','\n",
    "COLLECTION ITEMS TERMINATED BY ':'\n",
    "MAP KEYS TERMINATED BY '#'\n",
    "LINES TERMINATED BY '\\n';\n",
    "LOAD DATA LOCAL INPATH 'tbl0.csv' INTO TABLE tbl0;\n",
    "--\n",
    "DROP TABLE IF EXISTS tbl1;\n",
    "CREATE TABLE tbl1 (\n",
    "    c1 INT,\n",
    "    c2 INT,\n",
    "    c3 STRING,\n",
    "    c4 MAP<STRING, INT>\n",
    ")\n",
    "ROW FORMAT DELIMITED \n",
    "FIELDS TERMINATED BY ','\n",
    "COLLECTION ITEMS TERMINATED BY ':'\n",
    "MAP KEYS TERMINATED BY '#'\n",
    "LINES TERMINATED BY '\\n';\n",
    "LOAD DATA LOCAL INPATH 'tbl1.csv' INTO TABLE tbl1;"
   ]
  },
  {
   "cell_type": "code",
   "execution_count": 6,
   "metadata": {},
   "outputs": [
    {
     "name": "stdout",
     "output_type": "stream",
     "text": [
      "SELECT\n",
      "    tbl0.c1 AS numer,\n",
      "    tbl0.c2 AS letra,\n",
      "    tbl1.c4[tbl0.c2] AS valor\n",
      "FROM\n",
      "    tbl0\n",
      "JOIN (\n",
      "    SELECT\n",
      "        c1,\n",
      "        c4\n",
      "    FROM\n",
      "        tbl1\n",
      "    ) tbl1\n",
      "ON\n",
      "    (tbl0.c1 = tbl1.c1);\n",
      "WARNING: Hive-on-MR is deprecated in Hive 2 and may not be available in the future versions. Consider using a different execution engine (i.e. spark, tez) or using Hive 1.X releases.\n",
      "Query ID = root_20200116043257_79135ef6-06d1-4fdd-b1fe-0bc74ac9c68d\n",
      "Total jobs = 1\n",
      "SLF4J: Class path contains multiple SLF4J bindings.\n",
      "SLF4J: Found binding in [jar:file:/usr/local/hive/lib/log4j-slf4j-impl-2.6.2.jar!/org/slf4j/impl/StaticLoggerBinder.class]\n",
      "SLF4J: Found binding in [jar:file:/usr/local/hadoop/share/hadoop/common/lib/slf4j-log4j12-1.7.10.jar!/org/slf4j/impl/StaticLoggerBinder.class]\n",
      "SLF4J: See http://www.slf4j.org/codes.html#multiple_bindings for an explanation.\n",
      "SLF4J: Actual binding is of type [org.apache.logging.slf4j.Log4jLoggerFactory]\n",
      "2020-01-16 04:33:23\tStarting to launch local task to process map join;\tmaximum memory = 477626368\n",
      "2020-01-16 04:33:27\tDump the side-table for tag: 1 with group count: 10 into file: file:/tmp/root/9bf1df7a-ca38-49ae-b1cf-87553dcbb35c/hive_2020-01-16_04-32-57_383_6773821059772942118-1/-local-10004/HashTable-Stage-3/MapJoin-mapfile01--.hashtable\n",
      "2020-01-16 04:33:28\tUploaded 1 File to: file:/tmp/root/9bf1df7a-ca38-49ae-b1cf-87553dcbb35c/hive_2020-01-16_04-32-57_383_6773821059772942118-1/-local-10004/HashTable-Stage-3/MapJoin-mapfile01--.hashtable (673 bytes)\n",
      "2020-01-16 04:33:28\tEnd of local task; Time Taken: 4.844 sec.\n",
      "Execution completed successfully\n",
      "MapredLocal task succeeded\n",
      "Launching Job 1 out of 1\n",
      "Number of reduce tasks is set to 0 since there's no reduce operator\n",
      "Starting Job = job_1579148226424_0001, Tracking URL = http://fb4f5b828b62:8088/proxy/application_1579148226424_0001/\n",
      "Kill Command = /usr/local/hadoop/bin/hadoop job  -kill job_1579148226424_0001\n",
      "Hadoop job information for Stage-3: number of mappers: 1; number of reducers: 0\n",
      "2020-01-16 04:33:55,518 Stage-3 map = 0%,  reduce = 0%\n",
      "2020-01-16 04:34:08,043 Stage-3 map = 100%,  reduce = 0%, Cumulative CPU 6.61 sec\n",
      "MapReduce Total cumulative CPU time: 6 seconds 610 msec\n",
      "Ended Job = job_1579148226424_0001\n",
      "MapReduce Jobs Launched: \n",
      "Stage-Stage-3: Map: 1   Cumulative CPU: 6.61 sec   HDFS Read: 7597 HDFS Write: 268 SUCCESS\n",
      "Total MapReduce CPU Time Spent: 6 seconds 610 msec\n",
      "OK\n",
      "1\tD\t3\n",
      "2\tC\t0\n",
      "3\tD\t1\n",
      "4\tD\t5\n",
      "5\tC\t2\n",
      "6\tA\t4\n",
      "7\tB\t5\n",
      "8\tC\t5\n",
      "9\tB\t4\n",
      "10\tB\t3\n",
      "Time taken: 73.139 seconds, Fetched: 10 row(s)\n"
     ]
    }
   ],
   "source": [
    "%%hive\n",
    "SELECT\n",
    "    concat(tbl0.c1,',',\n",
    "    tbl0.c2,',',\n",
    "    tbl1.c4[tbl0.c2])\n",
    "FROM\n",
    "    tbl0\n",
    "JOIN (\n",
    "    SELECT\n",
    "        c1,\n",
    "        c4\n",
    "    FROM\n",
    "        tbl1\n",
    "    ) tbl1\n",
    "ON\n",
    "    (tbl0.c1 = tbl1.c1);\n"
   ]
  },
  {
   "cell_type": "code",
   "execution_count": 7,
   "metadata": {},
   "outputs": [
    {
     "name": "stdout",
     "output_type": "stream",
     "text": [
      "DROP TABLE IF EXISTS tbl1;\n",
      "OK\n",
      "Time taken: 0.225 seconds\n",
      "DROP TABLE IF EXISTS tbl0;\n",
      "OK\n",
      "Time taken: 0.24 seconds\n"
     ]
    }
   ],
   "source": [
    "%%hive\n",
    "DROP TABLE IF EXISTS tbl1;\n",
    "DROP TABLE IF EXISTS tbl0;"
   ]
  },
  {
   "cell_type": "code",
   "execution_count": 8,
   "metadata": {},
   "outputs": [],
   "source": [
    "%hive_quit"
   ]
  }
 ],
 "metadata": {
  "kernelspec": {
   "display_name": "Python 3",
   "language": "python",
   "name": "python3"
  },
  "language_info": {
   "codemirror_mode": {
    "name": "ipython",
    "version": 3
   },
   "file_extension": ".py",
   "mimetype": "text/x-python",
   "name": "python",
   "nbconvert_exporter": "python",
   "pygments_lexer": "ipython3",
   "version": "3.6.8"
  }
 },
 "nbformat": 4,
 "nbformat_minor": 4
}
