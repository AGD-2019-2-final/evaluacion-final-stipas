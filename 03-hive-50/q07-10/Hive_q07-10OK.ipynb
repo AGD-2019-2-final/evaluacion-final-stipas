{
 "cells": [
  {
   "cell_type": "code",
   "execution_count": 1,
   "metadata": {},
   "outputs": [],
   "source": [
    "%load_ext bigdata"
   ]
  },
  {
   "cell_type": "code",
   "execution_count": 2,
   "metadata": {},
   "outputs": [],
   "source": [
    "%hive_start"
   ]
  },
  {
   "cell_type": "code",
   "execution_count": 3,
   "metadata": {},
   "outputs": [],
   "source": [
    "%timeout 300"
   ]
  },
  {
   "cell_type": "code",
   "execution_count": 4,
   "metadata": {},
   "outputs": [],
   "source": [
    "!hadoop fs -rm -f -r tmp;"
   ]
  },
  {
   "cell_type": "code",
   "execution_count": 5,
   "metadata": {},
   "outputs": [
    {
     "name": "stdout",
     "output_type": "stream",
     "text": [
      "copyFromLocal: `data.tsv': No such file or directory\n",
      "ls: `/tmp/output/*': No such file or directory\n"
     ]
    }
   ],
   "source": [
    "## Borra la carpeta si existe\n",
    "!hdfs dfs -rm -r -f /tmp/output\n",
    "## Crea la carpeta drivers en el HDFS\n",
    "!hdfs dfs -mkdir /tmp/output\n",
    "## Copia los archivos al HDFS\n",
    "!hdfs dfs -copyFromLocal data.tsv  /tmp/output/data.tsv\n",
    "## Lista los archivos al HDFS para verificar\n",
    "## que los archivos fueron copiados correctamente.\n",
    "!hdfs dfs -ls /tmp/output/*"
   ]
  },
  {
   "cell_type": "code",
   "execution_count": 6,
   "metadata": {},
   "outputs": [
    {
     "name": "stdout",
     "output_type": "stream",
     "text": [
      "DROP TABLE IF EXISTS tbl0;\n",
      "OK\n",
      "Time taken: 20.408 seconds\n",
      "CREATE TABLE tbl0 (\n",
      "    c1 INT,\n",
      "    c2 STRING,\n",
      "    c3 INT,\n",
      "    c4 DATE,\n",
      "    c5 ARRAY<CHAR(1)>, \n",
      "    c6 MAP<STRING, INT>\n",
      ")\n",
      "ROW FORMAT DELIMITED \n",
      "FIELDS TERMINATED BY ','\n",
      "COLLECTION ITEMS TERMINATED BY ':'\n",
      "MAP KEYS TERMINATED BY '#'\n",
      "LINES TERMINATED BY '\\n';\n",
      "OK\n",
      "Time taken: 1.671 seconds\n",
      "LOAD DATA LOCAL INPATH 'tbl0.csv' INTO TABLE tbl0;\n",
      "Loading data to table default.tbl0\n",
      "OK\n",
      "Time taken: 3.116 seconds\n"
     ]
    }
   ],
   "source": [
    "%%hive\n",
    "DROP TABLE IF EXISTS tbl0;\n",
    "CREATE TABLE tbl0 (\n",
    "    c1 INT,\n",
    "    c2 STRING,\n",
    "    c3 INT,\n",
    "    c4 DATE,\n",
    "    c5 ARRAY<CHAR(1)>, \n",
    "    c6 MAP<STRING, INT>\n",
    ")\n",
    "ROW FORMAT DELIMITED \n",
    "FIELDS TERMINATED BY ','\n",
    "COLLECTION ITEMS TERMINATED BY ':'\n",
    "MAP KEYS TERMINATED BY '#'\n",
    "LINES TERMINATED BY '\\n';\n",
    "LOAD DATA LOCAL INPATH 'tbl0.csv' INTO TABLE tbl0;"
   ]
  },
  {
   "cell_type": "code",
   "execution_count": 7,
   "metadata": {},
   "outputs": [
    {
     "name": "stdout",
     "output_type": "stream",
     "text": [
      "--\n",
      "-- para guardar la consulta se debe almacenar en un tabla\n",
      "DROP TABLE IF EXISTS salida;\n",
      "OK\n",
      "Time taken: 0.016 seconds\n",
      "CREATE TABLE salida\n",
      "AS\n",
      "SELECT\n",
      "    concat(c2,',',\n",
      "    concat_ws(':',collect_set(cast(c1 AS string))))\n",
      "FROM\n",
      "    tbl0\n",
      "GROUP BY\n",
      "    c2;\n",
      "WARNING: Hive-on-MR is deprecated in Hive 2 and may not be available in the future versions. Consider using a different execution engine (i.e. spark, tez) or using Hive 1.X releases.\n",
      "Query ID = root_20200120034146_910283ea-0816-423f-841e-be2ad248312a\n",
      "Total jobs = 1\n",
      "Launching Job 1 out of 1\n",
      "Number of reduce tasks not specified. Estimated from input data size: 1\n",
      "In order to change the average load for a reducer (in bytes):\n",
      "  set hive.exec.reducers.bytes.per.reducer=<number>\n",
      "In order to limit the maximum number of reducers:\n",
      "  set hive.exec.reducers.max=<number>\n",
      "In order to set a constant number of reducers:\n",
      "  set mapreduce.job.reduces=<number>\n",
      "Starting Job = job_1579491476648_0001, Tracking URL = http://871cdb7449b2:8088/proxy/application_1579491476648_0001/\n",
      "Kill Command = /usr/local/hadoop/bin/hadoop job  -kill job_1579491476648_0001\n",
      "Hadoop job information for Stage-1: number of mappers: 1; number of reducers: 1\n",
      "2020-01-20 03:42:11,465 Stage-1 map = 0%,  reduce = 0%\n",
      "2020-01-20 03:42:21,237 Stage-1 map = 100%,  reduce = 0%, Cumulative CPU 5.12 sec\n",
      "2020-01-20 03:42:31,890 Stage-1 map = 100%,  reduce = 100%, Cumulative CPU 11.18 sec\n",
      "MapReduce Total cumulative CPU time: 11 seconds 180 msec\n",
      "Ended Job = job_1579491476648_0001\n",
      "Moving data to directory hdfs://0.0.0.0:9000/user/hive/warehouse/salida\n",
      "MapReduce Jobs Launched: \n",
      "Stage-Stage-1: Map: 1  Reduce: 1   Cumulative CPU: 11.18 sec   HDFS Read: 10074 HDFS Write: 99 SUCCESS\n",
      "Total MapReduce CPU Time Spent: 11 seconds 180 msec\n",
      "OK\n",
      "Time taken: 49.15 seconds\n"
     ]
    }
   ],
   "source": [
    "%%hive\n",
    "--\n",
    "-- para guardar la consulta se debe almacenar en un tabla\n",
    "DROP TABLE IF EXISTS salida;\n",
    "CREATE TABLE salida\n",
    "AS\n",
    "SELECT\n",
    "    concat(c2,',',\n",
    "    concat_ws(':',collect_set(cast(c1 AS string))))\n",
    "FROM\n",
    "    tbl0\n",
    "GROUP BY\n",
    "    c2;"
   ]
  },
  {
   "cell_type": "code",
   "execution_count": 8,
   "metadata": {},
   "outputs": [
    {
     "name": "stdout",
     "output_type": "stream",
     "text": [
      "DROP TABLE IF EXISTS tbl0;\n",
      "OK\n",
      "Time taken: 0.897 seconds\n"
     ]
    }
   ],
   "source": [
    "%%hive\n",
    "DROP TABLE IF EXISTS tbl0;"
   ]
  },
  {
   "cell_type": "code",
   "execution_count": 9,
   "metadata": {},
   "outputs": [
    {
     "name": "stdout",
     "output_type": "stream",
     "text": [
      "-- \n",
      "INSERT OVERWRITE DIRECTORY 'tmp/000000_0'\n",
      "ROW FORMAT DELIMITED FIELDS TERMINATED BY ','\n",
      "SELECT\n",
      "    *\n",
      "FROM\n",
      "    salida;\n",
      "WARNING: Hive-on-MR is deprecated in Hive 2 and may not be available in the future versions. Consider using a different execution engine (i.e. spark, tez) or using Hive 1.X releases.\n",
      "Query ID = root_20200120034244_d65cf06f-6fcb-4571-8e46-8cd01d390def\n",
      "Total jobs = 3\n",
      "Launching Job 1 out of 3\n",
      "Number of reduce tasks is set to 0 since there's no reduce operator\n",
      "Starting Job = job_1579491476648_0002, Tracking URL = http://871cdb7449b2:8088/proxy/application_1579491476648_0002/\n",
      "Kill Command = /usr/local/hadoop/bin/hadoop job  -kill job_1579491476648_0002\n",
      "Hadoop job information for Stage-1: number of mappers: 1; number of reducers: 0\n",
      "2020-01-20 03:42:56,926 Stage-1 map = 0%,  reduce = 0%\n",
      "2020-01-20 03:43:05,193 Stage-1 map = 100%,  reduce = 0%, Cumulative CPU 2.77 sec\n",
      "MapReduce Total cumulative CPU time: 2 seconds 770 msec\n",
      "Ended Job = job_1579491476648_0002\n",
      "Stage-3 is selected by condition resolver.\n",
      "Stage-2 is filtered out by condition resolver.\n",
      "Stage-4 is filtered out by condition resolver.\n",
      "Moving data to directory hdfs://0.0.0.0:9000/user/root/tmp/000000_0/.hive-staging_hive_2020-01-20_03-42-44_349_4369707307087449164-1/-ext-10000\n",
      "Moving data to directory tmp/000000_0\n",
      "MapReduce Jobs Launched: \n",
      "Stage-Stage-1: Map: 1   Cumulative CPU: 2.77 sec   HDFS Read: 3233 HDFS Write: 29 SUCCESS\n",
      "Total MapReduce CPU Time Spent: 2 seconds 770 msec\n",
      "OK\n",
      "Time taken: 22.176 seconds\n"
     ]
    }
   ],
   "source": [
    "%%hive\n",
    "-- \n",
    "INSERT OVERWRITE DIRECTORY 'tmp/000000_0'\n",
    "ROW FORMAT DELIMITED FIELDS TERMINATED BY ','\n",
    "SELECT\n",
    "    *\n",
    "FROM\n",
    "    salida;"
   ]
  },
  {
   "cell_type": "code",
   "execution_count": 10,
   "metadata": {},
   "outputs": [],
   "source": [
    "!hadoop fs -copyToLocal ./tmp/000000_0 output"
   ]
  },
  {
   "cell_type": "code",
   "execution_count": 11,
   "metadata": {},
   "outputs": [],
   "source": [
    "%hive_quit"
   ]
  }
 ],
 "metadata": {
  "kernelspec": {
   "display_name": "Python 3",
   "language": "python",
   "name": "python3"
  },
  "language_info": {
   "codemirror_mode": {
    "name": "ipython",
    "version": 3
   },
   "file_extension": ".py",
   "mimetype": "text/x-python",
   "name": "python",
   "nbconvert_exporter": "python",
   "pygments_lexer": "ipython3",
   "version": "3.6.8"
  }
 },
 "nbformat": 4,
 "nbformat_minor": 4
}
