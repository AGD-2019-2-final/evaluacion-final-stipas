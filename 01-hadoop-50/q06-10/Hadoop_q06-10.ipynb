{
 "cells": [
  {
   "cell_type": "code",
   "execution_count": 1,
   "metadata": {},
   "outputs": [
    {
     "name": "stdout",
     "output_type": "stream",
     "text": [
      "Overwriting mapper.py\n"
     ]
    }
   ],
   "source": [
    "%%writefile mapper.py\n",
    "#! /usr/bin/env python\n",
    "\n",
    "import sys\n",
    "if __name__ == \"__main__\":\n",
    "\n",
    "    # input comes from STDIN (standard input)\n",
    "    for line in sys.stdin:\n",
    "        line = line.strip()\n",
    "        line = line.split('   ')\n",
    "\n",
    "        if len(line) >=2:\n",
    "            letra = line[0]\n",
    "            valor = line[2]            \n",
    "\n",
    "            sys.stdout.write(\"{},{}\\n\".format(letra, valor))\n",
    "        ##    print ('%s\\t%s' % (purpose, amount))"
   ]
  },
  {
   "cell_type": "code",
   "execution_count": 2,
   "metadata": {},
   "outputs": [],
   "source": [
    "!chmod +x mapper.py"
   ]
  },
  {
   "cell_type": "code",
   "execution_count": 3,
   "metadata": {},
   "outputs": [
    {
     "name": "stdout",
     "output_type": "stream",
     "text": [
      "B,14.1\n",
      "E,12.2\n",
      "E,17.0\n",
      "C,13.8\n",
      "E,16.9\n",
      "A,14.8\n",
      "B,12.1\n",
      "E,13.2\n",
      "E,11.3\n",
      "E,16.4\n"
     ]
    }
   ],
   "source": [
    "!cat ./data.csv | ./mapper.py | head"
   ]
  },
  {
   "cell_type": "code",
   "execution_count": 4,
   "metadata": {},
   "outputs": [
    {
     "name": "stdout",
     "output_type": "stream",
     "text": [
      "Overwriting reducer.py\n"
     ]
    }
   ],
   "source": [
    "%%writefile reducer.py\n",
    "#!/usr/bin/env python\n",
    "import sys\n",
    "## Esta funcion reduce los elementos que\n",
    "## tienen la misma clave\n",
    "if __name__ == '__main__':\n",
    "\n",
    "    letra_1={}\n",
    "    total = 0\n",
    "    ## cada linea de texto recibida es una\n",
    "    ## entrada clave \\tabulador valor\n",
    "    for line in sys.stdin:\n",
    "        line = line.strip()\n",
    "        letra, valor = line.split(',')\n",
    "        valor=float(valor)\n",
    "        if letra in letra_1:\n",
    "          letra_1[letra].append(valor)\n",
    "        else:\n",
    "            letra_1[letra]=[]\n",
    "            letra_1[letra].append(valor)\n",
    "    for letra in letra_1.keys():\n",
    "        maximo=max(letra_1[letra])\n",
    "        minimo=min(letra_1[letra])\n",
    "    \n",
    "        sys.stdout.write(\"{}\\t{}\\t{}\\n\".format(letra, maximo, minimo))"
   ]
  },
  {
   "cell_type": "code",
   "execution_count": 5,
   "metadata": {},
   "outputs": [],
   "source": [
    "!chmod +x reducer.py"
   ]
  },
  {
   "cell_type": "code",
   "execution_count": 6,
   "metadata": {},
   "outputs": [
    {
     "name": "stdout",
     "output_type": "stream",
     "text": [
      "A\t18.4\t10.7\n",
      "B\t17.0\t10.7\n",
      "C\t15.3\t10.2\n",
      "D\t15.1\t15.1\n",
      "E\t18.8\t10.5\n"
     ]
    }
   ],
   "source": [
    "!cat ./data.csv | ./mapper.py | ./reducer.py | sort | head"
   ]
  },
  {
   "cell_type": "code",
   "execution_count": null,
   "metadata": {},
   "outputs": [],
   "source": []
  }
 ],
 "metadata": {
  "kernelspec": {
   "display_name": "Python 3",
   "language": "python",
   "name": "python3"
  },
  "language_info": {
   "codemirror_mode": {
    "name": "ipython",
    "version": 3
   },
   "file_extension": ".py",
   "mimetype": "text/x-python",
   "name": "python",
   "nbconvert_exporter": "python",
   "pygments_lexer": "ipython3",
   "version": "3.6.8"
  }
 },
 "nbformat": 4,
 "nbformat_minor": 4
}
