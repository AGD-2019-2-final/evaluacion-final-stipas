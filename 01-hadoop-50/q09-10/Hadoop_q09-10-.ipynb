{
 "cells": [
  {
   "cell_type": "code",
   "execution_count": 7,
   "metadata": {
    "colab": {
     "base_uri": "https://localhost:8080/",
     "height": 34
    },
    "colab_type": "code",
    "executionInfo": {
     "elapsed": 1166,
     "status": "ok",
     "timestamp": 1576636617628,
     "user": {
      "displayName": "Saulo Sebastian Tipas Puerres",
      "photoUrl": "https://lh3.googleusercontent.com/a-/AAuE7mCQu5YfliCpk9h8k9mx3iFSoHT2_8SDvvxM1CO-=s64",
      "userId": "05224778346041988074"
     },
     "user_tz": 300
    },
    "id": "97yRhxEd3QlZ",
    "outputId": "7bee7426-1cfc-4eb0-f671-ef8a3bf0cdd2"
   },
   "outputs": [
    {
     "name": "stdout",
     "output_type": "stream",
     "text": [
      "Overwriting mapper.py\n"
     ]
    }
   ],
   "source": [
    "%%writefile mapper.py\n",
    "#! /usr/bin/env python\n",
    "\n",
    "import sys\n",
    "if __name__ == \"__main__\":\n",
    "\n",
    "    # input comes from STDIN (standard input)\n",
    "    for line in sys.stdin:\n",
    "        line = line.strip()\n",
    "        line = line.split('  ')\n",
    "\n",
    "        if len(line) >=2:\n",
    "            letra = line[0]\n",
    "            fecha = line[1]\n",
    "            valor = line[2]\n",
    "\n",
    "            sys.stdout.write(\"{},{},{}\\n\".format(letra, fecha, valor))\n",
    "        ##    print ('%s\\t%s' % (purpose, amount))"
   ]
  },
  {
   "cell_type": "code",
   "execution_count": 8,
   "metadata": {
    "colab": {},
    "colab_type": "code",
    "id": "-6FXhojv3Qlj"
   },
   "outputs": [],
   "source": [
    "!chmod +x mapper.py"
   ]
  },
  {
   "cell_type": "code",
   "execution_count": 9,
   "metadata": {
    "colab": {
     "base_uri": "https://localhost:8080/",
     "height": 187
    },
    "colab_type": "code",
    "executionInfo": {
     "elapsed": 2515,
     "status": "ok",
     "timestamp": 1576636630190,
     "user": {
      "displayName": "Saulo Sebastian Tipas Puerres",
      "photoUrl": "https://lh3.googleusercontent.com/a-/AAuE7mCQu5YfliCpk9h8k9mx3iFSoHT2_8SDvvxM1CO-=s64",
      "userId": "05224778346041988074"
     },
     "user_tz": 300
    },
    "id": "FMOhN89_3Qlo",
    "outputId": "97dd5f0f-310f-4a26-891d-7219a7485309"
   },
   "outputs": [
    {
     "name": "stdout",
     "output_type": "stream",
     "text": [
      "B, 1999-08-28, 14\n",
      "E, 1999-12-06, 121\n",
      "E, 1993-07-21, 17\n",
      "C, 1991-02-12, 2\n",
      "E, 1995-04-25, 161\n",
      "A, 1992-08-22, 14\n",
      "B, 1999-06-11, 12\n",
      "E, 1993-01-27, 8\n",
      "E, 1999-09-10, 11\n",
      "E, 1990-05-03, 16\n"
     ]
    }
   ],
   "source": [
    "!cat ./data.csv | ./mapper.py | head"
   ]
  },
  {
   "cell_type": "code",
   "execution_count": 10,
   "metadata": {
    "colab": {
     "base_uri": "https://localhost:8080/",
     "height": 34
    },
    "colab_type": "code",
    "executionInfo": {
     "elapsed": 600,
     "status": "ok",
     "timestamp": 1576636766908,
     "user": {
      "displayName": "Saulo Sebastian Tipas Puerres",
      "photoUrl": "https://lh3.googleusercontent.com/a-/AAuE7mCQu5YfliCpk9h8k9mx3iFSoHT2_8SDvvxM1CO-=s64",
      "userId": "05224778346041988074"
     },
     "user_tz": 300
    },
    "id": "pPxQonqi3Qls",
    "outputId": "45b34bbb-59e7-4cd1-e7ab-5b33ec2b691c"
   },
   "outputs": [
    {
     "name": "stdout",
     "output_type": "stream",
     "text": [
      "Overwriting reducer.py\n"
     ]
    }
   ],
   "source": [
    "%%writefile reducer.py\n",
    "#!/usr/bin/env python\n",
    "import sys\n",
    "\n",
    "if __name__ == '__main__':\n",
    "    ## cada linea de texto recibida es una\n",
    "    ## entrada clave \\tabulador valor\n",
    "    b=[]\n",
    "    \n",
    "    for line in sys.stdin:\n",
    "        line = line.strip()\n",
    "        letra, fecha, valor = line.split(',')\n",
    "        valor=int(valor)\n",
    "        b.append((letra,fecha,valor))\n",
    "        \n",
    "\n",
    "       ## sys.stdout.write(\"{}\\n\".format(sorted(line)))\n",
    "        \n",
    "        b.sort(key=lambda b: b[2])\n",
    "        \n",
    "    \n",
    "    for i in b[0:6]:\n",
    "        \n",
    "    ##   print(i[0]+','+str(i[1]))\n",
    "       sys.stdout.write(\"{}\\n\".format((i[0]+'\\t'+ i[1]+'\\t'+ str(i[2]))))"
   ]
  },
  {
   "cell_type": "code",
   "execution_count": 11,
   "metadata": {
    "colab": {},
    "colab_type": "code",
    "id": "Z5tawXst3Qlv"
   },
   "outputs": [],
   "source": [
    "!chmod +x reducer.py"
   ]
  },
  {
   "cell_type": "code",
   "execution_count": 12,
   "metadata": {
    "colab": {
     "base_uri": "https://localhost:8080/",
     "height": 85
    },
    "colab_type": "code",
    "executionInfo": {
     "elapsed": 1890,
     "status": "ok",
     "timestamp": 1576636771116,
     "user": {
      "displayName": "Saulo Sebastian Tipas Puerres",
      "photoUrl": "https://lh3.googleusercontent.com/a-/AAuE7mCQu5YfliCpk9h8k9mx3iFSoHT2_8SDvvxM1CO-=s64",
      "userId": "05224778346041988074"
     },
     "user_tz": 300
    },
    "id": "uZUXF3MH3Qlz",
    "outputId": "af026da1-a925-4a03-ef7d-b7820d84745f"
   },
   "outputs": [
    {
     "name": "stdout",
     "output_type": "stream",
     "text": [
      "C\t 1994-07-27\t1\n",
      "C\t 1991-02-12\t2\n",
      "A\t 1990-07-22\t4\n",
      "A\t 1990-09-26\t5\n",
      "B\t 1997-04-09\t6\n",
      "E\t 1998-09-14\t7\n"
     ]
    }
   ],
   "source": [
    "!cat ./data.csv | ./mapper.py | sort | ./reducer.py | head"
   ]
  },
  {
   "cell_type": "code",
   "execution_count": null,
   "metadata": {},
   "outputs": [],
   "source": []
  }
 ],
 "metadata": {
  "colab": {
   "name": "Hadoop_q09-10-.ipynb",
   "provenance": []
  },
  "kernelspec": {
   "display_name": "Python 3",
   "language": "python",
   "name": "python3"
  },
  "language_info": {
   "codemirror_mode": {
    "name": "ipython",
    "version": 3
   },
   "file_extension": ".py",
   "mimetype": "text/x-python",
   "name": "python",
   "nbconvert_exporter": "python",
   "pygments_lexer": "ipython3",
   "version": "3.6.8"
  }
 },
 "nbformat": 4,
 "nbformat_minor": 4
}
