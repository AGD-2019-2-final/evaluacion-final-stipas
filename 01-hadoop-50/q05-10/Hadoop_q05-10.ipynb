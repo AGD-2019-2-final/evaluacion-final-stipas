{
 "cells": [
  {
   "cell_type": "code",
   "execution_count": 1,
   "metadata": {},
   "outputs": [
    {
     "name": "stdout",
     "output_type": "stream",
     "text": [
      "Overwriting mapper.py\n"
     ]
    }
   ],
   "source": [
    "%%writefile mapper.py\n",
    "#! /usr/bin/env python\n",
    "\n",
    "import sys\n",
    "if __name__ == \"__main__\":\n",
    "\n",
    "    # input comes from STDIN (standard input)\n",
    "    for line in sys.stdin:\n",
    "        line = line.strip()\n",
    "        line = line.split('  ')\n",
    "\n",
    "        if len(line) >=2:\n",
    "            num_mes = line[1]\n",
    "            mes = num_mes.split('-')\n",
    "            mes = mes[1]\n",
    "\n",
    "            sys.stdout.write(\"{}\\t1\\n\".format(mes))"
   ]
  },
  {
   "cell_type": "code",
   "execution_count": 2,
   "metadata": {},
   "outputs": [],
   "source": [
    "!chmod +x mapper.py"
   ]
  },
  {
   "cell_type": "code",
   "execution_count": 3,
   "metadata": {},
   "outputs": [
    {
     "name": "stdout",
     "output_type": "stream",
     "text": [
      "08\t1\n",
      "12\t1\n",
      "07\t1\n",
      "02\t1\n",
      "04\t1\n",
      "08\t1\n",
      "06\t1\n",
      "01\t1\n",
      "09\t1\n",
      "05\t1\n"
     ]
    }
   ],
   "source": [
    "!cat ./data.csv | ./mapper.py | head"
   ]
  },
  {
   "cell_type": "code",
   "execution_count": 4,
   "metadata": {},
   "outputs": [
    {
     "name": "stdout",
     "output_type": "stream",
     "text": [
      "Overwriting reducer.py\n"
     ]
    }
   ],
   "source": [
    "%%writefile reducer.py\n",
    "#!/usr/bin/env python\n",
    "\n",
    "import sys\n",
    "\n",
    "##\n",
    "## Esta funcion reduce los elementos que\n",
    "## tienen la misma clave\n",
    "##\n",
    "\n",
    "if __name__ == '__main__':\n",
    "\n",
    "    curkey = None\n",
    "    total = 0\n",
    "\n",
    "    ##\n",
    "    ## cada linea de texto recibida es una\n",
    "    ## entrada clave \\tabulador valor\n",
    "    ##\n",
    "    for line in sys.stdin:\n",
    "\n",
    "        key, val = line.split(\"\\t\")\n",
    "        val = int(val)\n",
    "\n",
    "        if key == curkey:\n",
    "            ##\n",
    "            ## No se ha cambiado de clave. Aca se\n",
    "            ## acumulan los valores para la misma clave.\n",
    "            ##\n",
    "            total += val\n",
    "        else:\n",
    "            ##\n",
    "            ## Se cambio de clave. Se reinicia el\n",
    "            ## acumulador.\n",
    "            ##\n",
    "            if curkey is not None:\n",
    "                ##\n",
    "                ## una vez se han reducido todos los elementos\n",
    "                ## con la misma clave se imprime el resultado en\n",
    "                ## el flujo de salida\n",
    "                ##\n",
    "                sys.stdout.write(\"{}\\t{}\\n\".format(curkey, total))\n",
    "\n",
    "            curkey = key\n",
    "            total = val\n",
    "\n",
    "    sys.stdout.write(\"{}\\t{}\\n\".format(curkey, total))"
   ]
  },
  {
   "cell_type": "code",
   "execution_count": 5,
   "metadata": {},
   "outputs": [],
   "source": [
    "!chmod +x reducer.py"
   ]
  },
  {
   "cell_type": "code",
   "execution_count": 6,
   "metadata": {},
   "outputs": [
    {
     "name": "stdout",
     "output_type": "stream",
     "text": [
      "01\t4\n",
      "02\t5\n",
      "03\t1\n",
      "04\t3\n",
      "05\t2\n",
      "06\t1\n",
      "07\t3\n",
      "08\t5\n",
      "09\t7\n",
      "10\t5\n",
      "11\t1\n",
      "12\t3\n"
     ]
    }
   ],
   "source": [
    "!cat ./data.csv | ./mapper.py |sort| ./reducer.py"
   ]
  },
  {
   "cell_type": "code",
   "execution_count": null,
   "metadata": {},
   "outputs": [],
   "source": []
  }
 ],
 "metadata": {
  "kernelspec": {
   "display_name": "Python 3",
   "language": "python",
   "name": "python3"
  },
  "language_info": {
   "codemirror_mode": {
    "name": "ipython",
    "version": 3
   },
   "file_extension": ".py",
   "mimetype": "text/x-python",
   "name": "python",
   "nbconvert_exporter": "python",
   "pygments_lexer": "ipython3",
   "version": "3.6.8"
  }
 },
 "nbformat": 4,
 "nbformat_minor": 4
}
